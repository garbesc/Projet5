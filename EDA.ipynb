{
 "cells": [
  {
   "cell_type": "markdown",
   "id": "0320cca0",
   "metadata": {},
   "source": [
    "            Projet n°5 Catégorisez automatiquement des questions\n",
    "Ce notebook représente l'analyse exploratoire des données\n",
    "1. Importation des données\n",
    "2. Exploration des données\n",
    "3. Analyse en Composantes Principales\n",
    "4. Sauvegarde des données"
   ]
  },
  {
   "cell_type": "code",
   "execution_count": 63,
   "id": "a036151d",
   "metadata": {},
   "outputs": [],
   "source": [
    "import os, sys, time\n",
    "import numpy as np\n",
    "import pandas as pd\n",
    "import matplotlib.pyplot as plt\n",
    "import seaborn as sns\n",
    "\n",
    "import nltk\n",
    "from nltk.stem import WordNetLemmatizer\n",
    "from nltk.stem import PorterStemmer\n",
    "from nltk.tokenize import word_tokenize, wordpunct_tokenize"
   ]
  },
  {
   "cell_type": "code",
   "execution_count": 5,
   "id": "ef41db1b",
   "metadata": {},
   "outputs": [],
   "source": [
    "sns.set()"
   ]
  },
  {
   "cell_type": "markdown",
   "id": "07536f40",
   "metadata": {},
   "source": [
    "# <a name=\"C1\">1. Importation des données</a>"
   ]
  },
  {
   "cell_type": "code",
   "execution_count": 6,
   "id": "319ece32",
   "metadata": {},
   "outputs": [
    {
     "data": {
      "text/plain": [
       "['.DS_Store', 'QueryResults.csv', 'Select QueryResults.rtfd']"
      ]
     },
     "execution_count": 6,
     "metadata": {},
     "output_type": "execute_result"
    }
   ],
   "source": [
    "data=\"./data/source/\"\n",
    "os.listdir(data)"
   ]
  },
  {
   "cell_type": "code",
   "execution_count": 7,
   "id": "a0926719",
   "metadata": {},
   "outputs": [],
   "source": [
    "fn = data + \"QueryResults.csv\"\n",
    "df = pd.read_csv(fn,sep=\",\")"
   ]
  },
  {
   "cell_type": "code",
   "execution_count": 8,
   "id": "10b7f9c3",
   "metadata": {},
   "outputs": [
    {
     "data": {
      "text/html": [
       "<div>\n",
       "<style scoped>\n",
       "    .dataframe tbody tr th:only-of-type {\n",
       "        vertical-align: middle;\n",
       "    }\n",
       "\n",
       "    .dataframe tbody tr th {\n",
       "        vertical-align: top;\n",
       "    }\n",
       "\n",
       "    .dataframe thead th {\n",
       "        text-align: right;\n",
       "    }\n",
       "</style>\n",
       "<table border=\"1\" class=\"dataframe\">\n",
       "  <thead>\n",
       "    <tr style=\"text-align: right;\">\n",
       "      <th></th>\n",
       "      <th>Title</th>\n",
       "      <th>Body</th>\n",
       "      <th>Tags</th>\n",
       "      <th>Id</th>\n",
       "      <th>Score</th>\n",
       "      <th>ViewCount</th>\n",
       "      <th>FavoriteCount</th>\n",
       "      <th>AnswerCount</th>\n",
       "    </tr>\n",
       "  </thead>\n",
       "  <tbody>\n",
       "    <tr>\n",
       "      <th>0</th>\n",
       "      <td>Will this type of filtering work in a belongs_...</td>\n",
       "      <td>&lt;p&gt;For a recruitment application, I have a use...</td>\n",
       "      <td>&lt;ruby-on-rails&gt;</td>\n",
       "      <td>20561561</td>\n",
       "      <td>0</td>\n",
       "      <td>27</td>\n",
       "      <td>NaN</td>\n",
       "      <td>1</td>\n",
       "    </tr>\n",
       "    <tr>\n",
       "      <th>1</th>\n",
       "      <td>How to remove the \"border-radius\" of the navba...</td>\n",
       "      <td>&lt;p&gt;Everything is pretty much in the question. ...</td>\n",
       "      <td>&lt;twitter-bootstrap&gt;&lt;navbar&gt;&lt;css&gt;</td>\n",
       "      <td>20561563</td>\n",
       "      <td>-1</td>\n",
       "      <td>7803</td>\n",
       "      <td>NaN</td>\n",
       "      <td>1</td>\n",
       "    </tr>\n",
       "    <tr>\n",
       "      <th>2</th>\n",
       "      <td>TypeError: unsupported operand type(s) for *: ...</td>\n",
       "      <td>&lt;p&gt;I am trying to debug some Python (with next...</td>\n",
       "      <td>&lt;python&gt;</td>\n",
       "      <td>20561567</td>\n",
       "      <td>1</td>\n",
       "      <td>5569</td>\n",
       "      <td>NaN</td>\n",
       "      <td>1</td>\n",
       "    </tr>\n",
       "    <tr>\n",
       "      <th>3</th>\n",
       "      <td>How to put divider as a image next to button</td>\n",
       "      <td>&lt;p&gt;I was wanted to put one divider just next t...</td>\n",
       "      <td>&lt;android&gt;&lt;layout&gt;</td>\n",
       "      <td>20561568</td>\n",
       "      <td>0</td>\n",
       "      <td>86</td>\n",
       "      <td>NaN</td>\n",
       "      <td>2</td>\n",
       "    </tr>\n",
       "    <tr>\n",
       "      <th>4</th>\n",
       "      <td>Android ArrayIndexOutOfBoundsException in inse...</td>\n",
       "      <td>&lt;p&gt;I'm getting an error in inserting rows to m...</td>\n",
       "      <td>&lt;java&gt;&lt;php&gt;&lt;android&gt;&lt;mysql&gt;&lt;sqlite&gt;</td>\n",
       "      <td>20561570</td>\n",
       "      <td>0</td>\n",
       "      <td>150</td>\n",
       "      <td>NaN</td>\n",
       "      <td>3</td>\n",
       "    </tr>\n",
       "    <tr>\n",
       "      <th>5</th>\n",
       "      <td>Sending parameters to java via c++</td>\n",
       "      <td>&lt;p&gt;My java class has a static function defined...</td>\n",
       "      <td>&lt;java&gt;&lt;c++&gt;&lt;java-native-interface&gt;</td>\n",
       "      <td>20561572</td>\n",
       "      <td>1</td>\n",
       "      <td>5201</td>\n",
       "      <td>0.0</td>\n",
       "      <td>1</td>\n",
       "    </tr>\n",
       "    <tr>\n",
       "      <th>6</th>\n",
       "      <td>EF CodeFirst mapping enum with custom value ma...</td>\n",
       "      <td>&lt;p&gt;I need to create an application that is com...</td>\n",
       "      <td>&lt;c#&gt;&lt;entity-framework&gt;&lt;enums&gt;&lt;ef-code-first&gt;</td>\n",
       "      <td>20561573</td>\n",
       "      <td>1</td>\n",
       "      <td>1205</td>\n",
       "      <td>NaN</td>\n",
       "      <td>1</td>\n",
       "    </tr>\n",
       "    <tr>\n",
       "      <th>7</th>\n",
       "      <td>can I integrate anylogic with a .net application</td>\n",
       "      <td>&lt;ol&gt;\\n&lt;li&gt;can I integrate any logic simulation...</td>\n",
       "      <td>&lt;.net&gt;&lt;integration&gt;&lt;simulation&gt;&lt;anylogic&gt;</td>\n",
       "      <td>58690708</td>\n",
       "      <td>-3</td>\n",
       "      <td>145</td>\n",
       "      <td>NaN</td>\n",
       "      <td>2</td>\n",
       "    </tr>\n",
       "    <tr>\n",
       "      <th>8</th>\n",
       "      <td>JTextArea - selection behavior on double / tri...</td>\n",
       "      <td>&lt;p&gt;&lt;strong&gt;The problem:&lt;/strong&gt; when you doub...</td>\n",
       "      <td>&lt;java&gt;&lt;swing&gt;&lt;selection&gt;&lt;jtextarea&gt;&lt;double-click&gt;</td>\n",
       "      <td>58690711</td>\n",
       "      <td>3</td>\n",
       "      <td>424</td>\n",
       "      <td>0.0</td>\n",
       "      <td>1</td>\n",
       "    </tr>\n",
       "    <tr>\n",
       "      <th>9</th>\n",
       "      <td>Reading in doubles gives back zeros instead of...</td>\n",
       "      <td>&lt;p&gt;I am trying to read in a text file with acc...</td>\n",
       "      <td>&lt;java&gt;&lt;eclipse&gt;&lt;double&gt;</td>\n",
       "      <td>58690713</td>\n",
       "      <td>0</td>\n",
       "      <td>43</td>\n",
       "      <td>NaN</td>\n",
       "      <td>3</td>\n",
       "    </tr>\n",
       "  </tbody>\n",
       "</table>\n",
       "</div>"
      ],
      "text/plain": [
       "                                               Title  \\\n",
       "0  Will this type of filtering work in a belongs_...   \n",
       "1  How to remove the \"border-radius\" of the navba...   \n",
       "2  TypeError: unsupported operand type(s) for *: ...   \n",
       "3       How to put divider as a image next to button   \n",
       "4  Android ArrayIndexOutOfBoundsException in inse...   \n",
       "5                 Sending parameters to java via c++   \n",
       "6  EF CodeFirst mapping enum with custom value ma...   \n",
       "7   can I integrate anylogic with a .net application   \n",
       "8  JTextArea - selection behavior on double / tri...   \n",
       "9  Reading in doubles gives back zeros instead of...   \n",
       "\n",
       "                                                Body  \\\n",
       "0  <p>For a recruitment application, I have a use...   \n",
       "1  <p>Everything is pretty much in the question. ...   \n",
       "2  <p>I am trying to debug some Python (with next...   \n",
       "3  <p>I was wanted to put one divider just next t...   \n",
       "4  <p>I'm getting an error in inserting rows to m...   \n",
       "5  <p>My java class has a static function defined...   \n",
       "6  <p>I need to create an application that is com...   \n",
       "7  <ol>\\n<li>can I integrate any logic simulation...   \n",
       "8  <p><strong>The problem:</strong> when you doub...   \n",
       "9  <p>I am trying to read in a text file with acc...   \n",
       "\n",
       "                                                Tags        Id  Score  \\\n",
       "0                                    <ruby-on-rails>  20561561      0   \n",
       "1                   <twitter-bootstrap><navbar><css>  20561563     -1   \n",
       "2                                           <python>  20561567      1   \n",
       "3                                  <android><layout>  20561568      0   \n",
       "4                <java><php><android><mysql><sqlite>  20561570      0   \n",
       "5                 <java><c++><java-native-interface>  20561572      1   \n",
       "6       <c#><entity-framework><enums><ef-code-first>  20561573      1   \n",
       "7          <.net><integration><simulation><anylogic>  58690708     -3   \n",
       "8  <java><swing><selection><jtextarea><double-click>  58690711      3   \n",
       "9                            <java><eclipse><double>  58690713      0   \n",
       "\n",
       "   ViewCount  FavoriteCount  AnswerCount  \n",
       "0         27            NaN            1  \n",
       "1       7803            NaN            1  \n",
       "2       5569            NaN            1  \n",
       "3         86            NaN            2  \n",
       "4        150            NaN            3  \n",
       "5       5201            0.0            1  \n",
       "6       1205            NaN            1  \n",
       "7        145            NaN            2  \n",
       "8        424            0.0            1  \n",
       "9         43            NaN            3  "
      ]
     },
     "execution_count": 8,
     "metadata": {},
     "output_type": "execute_result"
    }
   ],
   "source": [
    "df.head(10)"
   ]
  },
  {
   "cell_type": "code",
   "execution_count": 9,
   "id": "dacf6b78",
   "metadata": {},
   "outputs": [
    {
     "data": {
      "text/html": [
       "<div>\n",
       "<style scoped>\n",
       "    .dataframe tbody tr th:only-of-type {\n",
       "        vertical-align: middle;\n",
       "    }\n",
       "\n",
       "    .dataframe tbody tr th {\n",
       "        vertical-align: top;\n",
       "    }\n",
       "\n",
       "    .dataframe thead th {\n",
       "        text-align: right;\n",
       "    }\n",
       "</style>\n",
       "<table border=\"1\" class=\"dataframe\">\n",
       "  <thead>\n",
       "    <tr style=\"text-align: right;\">\n",
       "      <th></th>\n",
       "      <th>Title</th>\n",
       "      <th>Body</th>\n",
       "      <th>Tags</th>\n",
       "      <th>Id</th>\n",
       "      <th>Score</th>\n",
       "      <th>ViewCount</th>\n",
       "      <th>FavoriteCount</th>\n",
       "      <th>AnswerCount</th>\n",
       "    </tr>\n",
       "  </thead>\n",
       "  <tbody>\n",
       "    <tr>\n",
       "      <th>49990</th>\n",
       "      <td>Prism and nested UserControl</td>\n",
       "      <td>&lt;p&gt;I have been using Prism for two days and ha...</td>\n",
       "      <td>&lt;user-controls&gt;&lt;prism&gt;</td>\n",
       "      <td>308759</td>\n",
       "      <td>2</td>\n",
       "      <td>2454</td>\n",
       "      <td>NaN</td>\n",
       "      <td>0</td>\n",
       "    </tr>\n",
       "    <tr>\n",
       "      <th>49991</th>\n",
       "      <td>What are some ways to protect emails on websit...</td>\n",
       "      <td>&lt;p&gt;I'm creating a public internet facing websi...</td>\n",
       "      <td>&lt;email&gt;&lt;protection&gt;&lt;spam&gt;</td>\n",
       "      <td>308772</td>\n",
       "      <td>12</td>\n",
       "      <td>15647</td>\n",
       "      <td>0.0</td>\n",
       "      <td>14</td>\n",
       "    </tr>\n",
       "    <tr>\n",
       "      <th>49992</th>\n",
       "      <td>Oracle dbms_scheduler - react to change of sys...</td>\n",
       "      <td>&lt;p&gt;I've got a &lt;em&gt;dbms_scheduler&lt;/em&gt;-Job runn...</td>\n",
       "      <td>&lt;oracle&gt;&lt;dbms-scheduler&gt;</td>\n",
       "      <td>308793</td>\n",
       "      <td>2</td>\n",
       "      <td>1056</td>\n",
       "      <td>NaN</td>\n",
       "      <td>1</td>\n",
       "    </tr>\n",
       "    <tr>\n",
       "      <th>49993</th>\n",
       "      <td>Can I use Ajax and ASP.NET Tracing on the same...</td>\n",
       "      <td>&lt;p&gt;I'm using an Ajax update panel and have rec...</td>\n",
       "      <td>&lt;asp.net&gt;&lt;ajax&gt;&lt;trace&gt;</td>\n",
       "      <td>308798</td>\n",
       "      <td>1</td>\n",
       "      <td>695</td>\n",
       "      <td>NaN</td>\n",
       "      <td>1</td>\n",
       "    </tr>\n",
       "    <tr>\n",
       "      <th>49994</th>\n",
       "      <td>Silverlight Unit Testing</td>\n",
       "      <td>&lt;p&gt;I'm using the &lt;a href=\"http://code.msdn.mic...</td>\n",
       "      <td>&lt;silverlight&gt;&lt;unit-testing&gt;</td>\n",
       "      <td>308802</td>\n",
       "      <td>7</td>\n",
       "      <td>1054</td>\n",
       "      <td>0.0</td>\n",
       "      <td>4</td>\n",
       "    </tr>\n",
       "    <tr>\n",
       "      <th>49995</th>\n",
       "      <td>What is model driven development good for?</td>\n",
       "      <td>&lt;p&gt;Microsoft, of Cairo fame, is working on Osl...</td>\n",
       "      <td>&lt;code-generation&gt;&lt;mda&gt;&lt;oslo&gt;&lt;mdd&gt;</td>\n",
       "      <td>308803</td>\n",
       "      <td>4</td>\n",
       "      <td>1099</td>\n",
       "      <td>0.0</td>\n",
       "      <td>3</td>\n",
       "    </tr>\n",
       "    <tr>\n",
       "      <th>49996</th>\n",
       "      <td>MySQL: how to get the list of tables using ODBC</td>\n",
       "      <td>&lt;p&gt;I am connecting to a MySQL DB trough a term...</td>\n",
       "      <td>&lt;mysql&gt;&lt;odbc&gt;</td>\n",
       "      <td>308809</td>\n",
       "      <td>2</td>\n",
       "      <td>3360</td>\n",
       "      <td>NaN</td>\n",
       "      <td>1</td>\n",
       "    </tr>\n",
       "    <tr>\n",
       "      <th>49997</th>\n",
       "      <td>OSGi/Felix Declarative Services: How to filter...</td>\n",
       "      <td>&lt;p&gt;I am using Apache Felix and its Declarative...</td>\n",
       "      <td>&lt;dependency-injection&gt;&lt;annotations&gt;&lt;osgi&gt;&lt;apac...</td>\n",
       "      <td>308813</td>\n",
       "      <td>4</td>\n",
       "      <td>4753</td>\n",
       "      <td>NaN</td>\n",
       "      <td>2</td>\n",
       "    </tr>\n",
       "    <tr>\n",
       "      <th>49998</th>\n",
       "      <td>Rewritepath and IIS Integrated Mode</td>\n",
       "      <td>&lt;p&gt;I have big issue with url-rewriting for IIS...</td>\n",
       "      <td>&lt;asp.net&gt;&lt;iis-7&gt;&lt;url-rewriting&gt;</td>\n",
       "      <td>308820</td>\n",
       "      <td>1</td>\n",
       "      <td>2127</td>\n",
       "      <td>NaN</td>\n",
       "      <td>3</td>\n",
       "    </tr>\n",
       "    <tr>\n",
       "      <th>49999</th>\n",
       "      <td>How to specify the exact number of occurance o...</td>\n",
       "      <td>&lt;p&gt;I have to define the grammar of a file like...</td>\n",
       "      <td>&lt;java&gt;&lt;parsing&gt;&lt;antlr&gt;&lt;grammar&gt;&lt;antlrworks&gt;</td>\n",
       "      <td>308823</td>\n",
       "      <td>2</td>\n",
       "      <td>1322</td>\n",
       "      <td>NaN</td>\n",
       "      <td>2</td>\n",
       "    </tr>\n",
       "  </tbody>\n",
       "</table>\n",
       "</div>"
      ],
      "text/plain": [
       "                                                   Title  \\\n",
       "49990                       Prism and nested UserControl   \n",
       "49991  What are some ways to protect emails on websit...   \n",
       "49992  Oracle dbms_scheduler - react to change of sys...   \n",
       "49993  Can I use Ajax and ASP.NET Tracing on the same...   \n",
       "49994                           Silverlight Unit Testing   \n",
       "49995         What is model driven development good for?   \n",
       "49996    MySQL: how to get the list of tables using ODBC   \n",
       "49997  OSGi/Felix Declarative Services: How to filter...   \n",
       "49998                Rewritepath and IIS Integrated Mode   \n",
       "49999  How to specify the exact number of occurance o...   \n",
       "\n",
       "                                                    Body  \\\n",
       "49990  <p>I have been using Prism for two days and ha...   \n",
       "49991  <p>I'm creating a public internet facing websi...   \n",
       "49992  <p>I've got a <em>dbms_scheduler</em>-Job runn...   \n",
       "49993  <p>I'm using an Ajax update panel and have rec...   \n",
       "49994  <p>I'm using the <a href=\"http://code.msdn.mic...   \n",
       "49995  <p>Microsoft, of Cairo fame, is working on Osl...   \n",
       "49996  <p>I am connecting to a MySQL DB trough a term...   \n",
       "49997  <p>I am using Apache Felix and its Declarative...   \n",
       "49998  <p>I have big issue with url-rewriting for IIS...   \n",
       "49999  <p>I have to define the grammar of a file like...   \n",
       "\n",
       "                                                    Tags      Id  Score  \\\n",
       "49990                             <user-controls><prism>  308759      2   \n",
       "49991                          <email><protection><spam>  308772     12   \n",
       "49992                           <oracle><dbms-scheduler>  308793      2   \n",
       "49993                             <asp.net><ajax><trace>  308798      1   \n",
       "49994                        <silverlight><unit-testing>  308802      7   \n",
       "49995                  <code-generation><mda><oslo><mdd>  308803      4   \n",
       "49996                                      <mysql><odbc>  308809      2   \n",
       "49997  <dependency-injection><annotations><osgi><apac...  308813      4   \n",
       "49998                    <asp.net><iis-7><url-rewriting>  308820      1   \n",
       "49999        <java><parsing><antlr><grammar><antlrworks>  308823      2   \n",
       "\n",
       "       ViewCount  FavoriteCount  AnswerCount  \n",
       "49990       2454            NaN            0  \n",
       "49991      15647            0.0           14  \n",
       "49992       1056            NaN            1  \n",
       "49993        695            NaN            1  \n",
       "49994       1054            0.0            4  \n",
       "49995       1099            0.0            3  \n",
       "49996       3360            NaN            1  \n",
       "49997       4753            NaN            2  \n",
       "49998       2127            NaN            3  \n",
       "49999       1322            NaN            2  "
      ]
     },
     "execution_count": 9,
     "metadata": {},
     "output_type": "execute_result"
    }
   ],
   "source": [
    "df.tail(10)"
   ]
  },
  {
   "cell_type": "code",
   "execution_count": 10,
   "id": "dfcf4aae",
   "metadata": {},
   "outputs": [
    {
     "data": {
      "text/html": [
       "<div>\n",
       "<style scoped>\n",
       "    .dataframe tbody tr th:only-of-type {\n",
       "        vertical-align: middle;\n",
       "    }\n",
       "\n",
       "    .dataframe tbody tr th {\n",
       "        vertical-align: top;\n",
       "    }\n",
       "\n",
       "    .dataframe thead th {\n",
       "        text-align: right;\n",
       "    }\n",
       "</style>\n",
       "<table border=\"1\" class=\"dataframe\">\n",
       "  <thead>\n",
       "    <tr style=\"text-align: right;\">\n",
       "      <th></th>\n",
       "      <th>Title</th>\n",
       "      <th>Body</th>\n",
       "      <th>Tags</th>\n",
       "      <th>Id</th>\n",
       "      <th>Score</th>\n",
       "      <th>ViewCount</th>\n",
       "      <th>FavoriteCount</th>\n",
       "      <th>AnswerCount</th>\n",
       "    </tr>\n",
       "  </thead>\n",
       "  <tbody>\n",
       "    <tr>\n",
       "      <th>1135</th>\n",
       "      <td>Best practices for building Flash video player</td>\n",
       "      <td>&lt;p&gt;We have a custom-built Flash-based video pl...</td>\n",
       "      <td>&lt;flash&gt;&lt;video&gt;</td>\n",
       "      <td>7674</td>\n",
       "      <td>5</td>\n",
       "      <td>2202</td>\n",
       "      <td>NaN</td>\n",
       "      <td>4</td>\n",
       "    </tr>\n",
       "    <tr>\n",
       "      <th>45849</th>\n",
       "      <td>How do I bind collection attributes to a form ...</td>\n",
       "      <td>&lt;p&gt;I'm trying to bind one of my model objects ...</td>\n",
       "      <td>&lt;java&gt;&lt;spring&gt;&lt;jakarta-ee&gt;&lt;spring-mvc&gt;</td>\n",
       "      <td>284368</td>\n",
       "      <td>17</td>\n",
       "      <td>36619</td>\n",
       "      <td>0.0</td>\n",
       "      <td>6</td>\n",
       "    </tr>\n",
       "    <tr>\n",
       "      <th>9402</th>\n",
       "      <td>How do I make a StreamImageSource into a byte []?</td>\n",
       "      <td>&lt;p&gt;I am trying to make a StreamImageSource int...</td>\n",
       "      <td>&lt;c#&gt;&lt;xamarin&gt;&lt;xamarin.forms&gt;</td>\n",
       "      <td>37970379</td>\n",
       "      <td>1</td>\n",
       "      <td>2625</td>\n",
       "      <td>NaN</td>\n",
       "      <td>1</td>\n",
       "    </tr>\n",
       "    <tr>\n",
       "      <th>48073</th>\n",
       "      <td>Stacked 3d bar chart with matplotlib</td>\n",
       "      <td>&lt;p&gt;i worked on a simple 3d bar chart using the...</td>\n",
       "      <td>&lt;python&gt;&lt;matplotlib&gt;&lt;charts&gt;&lt;3d&gt;</td>\n",
       "      <td>38086972</td>\n",
       "      <td>12</td>\n",
       "      <td>6755</td>\n",
       "      <td>0.0</td>\n",
       "      <td>1</td>\n",
       "    </tr>\n",
       "    <tr>\n",
       "      <th>6572</th>\n",
       "      <td>MS-Access design pattern for last value for a ...</td>\n",
       "      <td>&lt;p&gt;It's common to have a table where for examp...</td>\n",
       "      <td>&lt;ms-access&gt;</td>\n",
       "      <td>47413</td>\n",
       "      <td>3</td>\n",
       "      <td>3394</td>\n",
       "      <td>NaN</td>\n",
       "      <td>8</td>\n",
       "    </tr>\n",
       "    <tr>\n",
       "      <th>24195</th>\n",
       "      <td>UIButton not responding after animation</td>\n",
       "      <td>&lt;p&gt;&lt;strong&gt;I would prefer first download the p...</td>\n",
       "      <td>&lt;ios&gt;&lt;objective-c&gt;&lt;uibutton&gt;&lt;ibaction&gt;&lt;cgaffin...</td>\n",
       "      <td>18993151</td>\n",
       "      <td>5</td>\n",
       "      <td>4370</td>\n",
       "      <td>0.0</td>\n",
       "      <td>3</td>\n",
       "    </tr>\n",
       "    <tr>\n",
       "      <th>19472</th>\n",
       "      <td>How to access a particular element from JSTL F...</td>\n",
       "      <td>&lt;p&gt;I'm trying to make a booking website. On my...</td>\n",
       "      <td>&lt;javascript&gt;&lt;jsp&gt;&lt;geolocation&gt;&lt;jstl&gt;</td>\n",
       "      <td>57136058</td>\n",
       "      <td>0</td>\n",
       "      <td>179</td>\n",
       "      <td>NaN</td>\n",
       "      <td>1</td>\n",
       "    </tr>\n",
       "    <tr>\n",
       "      <th>6403</th>\n",
       "      <td>exporting runnable jar through eclipse - proje...</td>\n",
       "      <td>&lt;p&gt;i'm using jogl native jars ( as explained -...</td>\n",
       "      <td>&lt;eclipse&gt;&lt;jar&gt;&lt;native&gt;&lt;runnable&gt;&lt;jogl&gt;</td>\n",
       "      <td>18933516</td>\n",
       "      <td>0</td>\n",
       "      <td>1786</td>\n",
       "      <td>NaN</td>\n",
       "      <td>2</td>\n",
       "    </tr>\n",
       "    <tr>\n",
       "      <th>47929</th>\n",
       "      <td>freeing shared resources in Android app</td>\n",
       "      <td>&lt;p&gt;I'm writing an Android app that has both an...</td>\n",
       "      <td>&lt;java&gt;&lt;android&gt;&lt;garbage-collection&gt;&lt;destructor&gt;</td>\n",
       "      <td>19071340</td>\n",
       "      <td>3</td>\n",
       "      <td>377</td>\n",
       "      <td>0.0</td>\n",
       "      <td>3</td>\n",
       "    </tr>\n",
       "    <tr>\n",
       "      <th>6817</th>\n",
       "      <td>Continuously capture packets in Pyshark</td>\n",
       "      <td>&lt;p&gt;This &lt;a href=\"https://medium.com/python-pan...</td>\n",
       "      <td>&lt;python-3.x&gt;&lt;sniffing&gt;&lt;pyshark&gt;</td>\n",
       "      <td>57099396</td>\n",
       "      <td>1</td>\n",
       "      <td>5129</td>\n",
       "      <td>0.0</td>\n",
       "      <td>1</td>\n",
       "    </tr>\n",
       "  </tbody>\n",
       "</table>\n",
       "</div>"
      ],
      "text/plain": [
       "                                                   Title  \\\n",
       "1135      Best practices for building Flash video player   \n",
       "45849  How do I bind collection attributes to a form ...   \n",
       "9402   How do I make a StreamImageSource into a byte []?   \n",
       "48073               Stacked 3d bar chart with matplotlib   \n",
       "6572   MS-Access design pattern for last value for a ...   \n",
       "24195            UIButton not responding after animation   \n",
       "19472  How to access a particular element from JSTL F...   \n",
       "6403   exporting runnable jar through eclipse - proje...   \n",
       "47929            freeing shared resources in Android app   \n",
       "6817             Continuously capture packets in Pyshark   \n",
       "\n",
       "                                                    Body  \\\n",
       "1135   <p>We have a custom-built Flash-based video pl...   \n",
       "45849  <p>I'm trying to bind one of my model objects ...   \n",
       "9402   <p>I am trying to make a StreamImageSource int...   \n",
       "48073  <p>i worked on a simple 3d bar chart using the...   \n",
       "6572   <p>It's common to have a table where for examp...   \n",
       "24195  <p><strong>I would prefer first download the p...   \n",
       "19472  <p>I'm trying to make a booking website. On my...   \n",
       "6403   <p>i'm using jogl native jars ( as explained -...   \n",
       "47929  <p>I'm writing an Android app that has both an...   \n",
       "6817   <p>This <a href=\"https://medium.com/python-pan...   \n",
       "\n",
       "                                                    Tags        Id  Score  \\\n",
       "1135                                      <flash><video>      7674      5   \n",
       "45849             <java><spring><jakarta-ee><spring-mvc>    284368     17   \n",
       "9402                        <c#><xamarin><xamarin.forms>  37970379      1   \n",
       "48073                   <python><matplotlib><charts><3d>  38086972     12   \n",
       "6572                                         <ms-access>     47413      3   \n",
       "24195  <ios><objective-c><uibutton><ibaction><cgaffin...  18993151      5   \n",
       "19472               <javascript><jsp><geolocation><jstl>  57136058      0   \n",
       "6403              <eclipse><jar><native><runnable><jogl>  18933516      0   \n",
       "47929    <java><android><garbage-collection><destructor>  19071340      3   \n",
       "6817                     <python-3.x><sniffing><pyshark>  57099396      1   \n",
       "\n",
       "       ViewCount  FavoriteCount  AnswerCount  \n",
       "1135        2202            NaN            4  \n",
       "45849      36619            0.0            6  \n",
       "9402        2625            NaN            1  \n",
       "48073       6755            0.0            1  \n",
       "6572        3394            NaN            8  \n",
       "24195       4370            0.0            3  \n",
       "19472        179            NaN            1  \n",
       "6403        1786            NaN            2  \n",
       "47929        377            0.0            3  \n",
       "6817        5129            0.0            1  "
      ]
     },
     "execution_count": 10,
     "metadata": {},
     "output_type": "execute_result"
    }
   ],
   "source": [
    "df.sample(10)"
   ]
  },
  {
   "cell_type": "markdown",
   "id": "5e820ad4",
   "metadata": {},
   "source": [
    "# <a name=\"C2\">2. Analyse des données</a>"
   ]
  },
  {
   "cell_type": "markdown",
   "id": "bb47d8a3",
   "metadata": {},
   "source": [
    "## <a name=\"C2.1\">2.1 Structure</a>"
   ]
  },
  {
   "cell_type": "code",
   "execution_count": 11,
   "id": "672c9e19",
   "metadata": {},
   "outputs": [
    {
     "data": {
      "text/plain": [
       "(50000, 8)"
      ]
     },
     "execution_count": 11,
     "metadata": {},
     "output_type": "execute_result"
    }
   ],
   "source": [
    "df.shape"
   ]
  },
  {
   "cell_type": "code",
   "execution_count": 12,
   "id": "358ff7ab",
   "metadata": {},
   "outputs": [
    {
     "data": {
      "text/plain": [
       "Title             object\n",
       "Body              object\n",
       "Tags              object\n",
       "Id                 int64\n",
       "Score              int64\n",
       "ViewCount          int64\n",
       "FavoriteCount    float64\n",
       "AnswerCount        int64\n",
       "dtype: object"
      ]
     },
     "execution_count": 12,
     "metadata": {},
     "output_type": "execute_result"
    }
   ],
   "source": [
    "df.dtypes"
   ]
  },
  {
   "cell_type": "code",
   "execution_count": 13,
   "id": "924d9e06",
   "metadata": {},
   "outputs": [
    {
     "name": "stdout",
     "output_type": "stream",
     "text": [
      "<class 'pandas.core.frame.DataFrame'>\n",
      "RangeIndex: 50000 entries, 0 to 49999\n",
      "Data columns (total 8 columns):\n",
      " #   Column         Non-Null Count  Dtype  \n",
      "---  ------         --------------  -----  \n",
      " 0   Title          50000 non-null  object \n",
      " 1   Body           50000 non-null  object \n",
      " 2   Tags           50000 non-null  object \n",
      " 3   Id             50000 non-null  int64  \n",
      " 4   Score          50000 non-null  int64  \n",
      " 5   ViewCount      50000 non-null  int64  \n",
      " 6   FavoriteCount  15969 non-null  float64\n",
      " 7   AnswerCount    50000 non-null  int64  \n",
      "dtypes: float64(1), int64(4), object(3)\n",
      "memory usage: 3.1+ MB\n"
     ]
    }
   ],
   "source": [
    "df.info()"
   ]
  },
  {
   "cell_type": "code",
   "execution_count": 14,
   "id": "7c82e9ad",
   "metadata": {},
   "outputs": [
    {
     "data": {
      "text/plain": [
       "int64      4\n",
       "object     3\n",
       "float64    1\n",
       "dtype: int64"
      ]
     },
     "execution_count": 14,
     "metadata": {},
     "output_type": "execute_result"
    }
   ],
   "source": [
    "df.dtypes.value_counts()"
   ]
  },
  {
   "cell_type": "code",
   "execution_count": 15,
   "id": "2cda6daa",
   "metadata": {},
   "outputs": [
    {
     "data": {
      "text/plain": [
       "Title            49996\n",
       "Body             49996\n",
       "Tags             37148\n",
       "Id               50000\n",
       "Score              547\n",
       "ViewCount        11995\n",
       "FavoriteCount        2\n",
       "AnswerCount         70\n",
       "dtype: int64"
      ]
     },
     "execution_count": 15,
     "metadata": {},
     "output_type": "execute_result"
    }
   ],
   "source": [
    "df.nunique()"
   ]
  },
  {
   "cell_type": "code",
   "execution_count": 16,
   "id": "56184302",
   "metadata": {},
   "outputs": [
    {
     "data": {
      "text/plain": [
       "Title            49996\n",
       "Body             49996\n",
       "Tags             37148\n",
       "Id               50000\n",
       "Score              547\n",
       "ViewCount        11995\n",
       "FavoriteCount        2\n",
       "AnswerCount         70\n",
       "dtype: int64"
      ]
     },
     "execution_count": 16,
     "metadata": {},
     "output_type": "execute_result"
    }
   ],
   "source": [
    "tmp = df.nunique()\n",
    "tmp"
   ]
  },
  {
   "cell_type": "code",
   "execution_count": 17,
   "id": "ace20331",
   "metadata": {},
   "outputs": [
    {
     "data": {
      "text/plain": [
       "FavoriteCount    2\n",
       "dtype: int64"
      ]
     },
     "execution_count": 17,
     "metadata": {},
     "output_type": "execute_result"
    }
   ],
   "source": [
    "tmp[tmp<10]"
   ]
  },
  {
   "cell_type": "code",
   "execution_count": 18,
   "id": "92118140",
   "metadata": {},
   "outputs": [
    {
     "data": {
      "text/plain": [
       "Title        49996\n",
       "Body         49996\n",
       "Tags         37148\n",
       "Id           50000\n",
       "Score          547\n",
       "ViewCount    11995\n",
       "dtype: int64"
      ]
     },
     "execution_count": 18,
     "metadata": {},
     "output_type": "execute_result"
    }
   ],
   "source": [
    "tmp[tmp>100]"
   ]
  },
  {
   "cell_type": "markdown",
   "id": "70e6427c",
   "metadata": {},
   "source": [
    "## <a name=\"C2.2\">2.2 Champs vides et dupliqués</a>"
   ]
  },
  {
   "cell_type": "code",
   "execution_count": 21,
   "id": "2d7ea56a",
   "metadata": {},
   "outputs": [
    {
     "data": {
      "text/plain": [
       "Title                0\n",
       "Body                 0\n",
       "Tags                 0\n",
       "Id                   0\n",
       "Score                0\n",
       "ViewCount            0\n",
       "FavoriteCount    34031\n",
       "AnswerCount          0\n",
       "dtype: int64"
      ]
     },
     "execution_count": 21,
     "metadata": {},
     "output_type": "execute_result"
    }
   ],
   "source": [
    "df.isna().sum()"
   ]
  },
  {
   "cell_type": "code",
   "execution_count": 22,
   "id": "bdb6194b",
   "metadata": {},
   "outputs": [
    {
     "data": {
      "text/plain": [
       "Title            0.00000\n",
       "Body             0.00000\n",
       "Tags             0.00000\n",
       "Id               0.00000\n",
       "Score            0.00000\n",
       "ViewCount        0.00000\n",
       "FavoriteCount    0.68062\n",
       "AnswerCount      0.00000\n",
       "dtype: float64"
      ]
     },
     "execution_count": 22,
     "metadata": {},
     "output_type": "execute_result"
    }
   ],
   "source": [
    "df.isna().mean()"
   ]
  },
  {
   "cell_type": "code",
   "execution_count": 23,
   "id": "5ea24d9e",
   "metadata": {},
   "outputs": [
    {
     "data": {
      "text/plain": [
       "Title            0.00000\n",
       "Body             0.00000\n",
       "Tags             0.00000\n",
       "Id               0.00000\n",
       "Score            0.00000\n",
       "ViewCount        0.00000\n",
       "AnswerCount      0.00000\n",
       "FavoriteCount    0.68062\n",
       "dtype: float64"
      ]
     },
     "execution_count": 23,
     "metadata": {},
     "output_type": "execute_result"
    }
   ],
   "source": [
    "df.isna().mean().sort_values()"
   ]
  },
  {
   "cell_type": "code",
   "execution_count": 24,
   "id": "a3158757",
   "metadata": {},
   "outputs": [
    {
     "data": {
      "text/plain": [
       "<AxesSubplot:>"
      ]
     },
     "execution_count": 24,
     "metadata": {},
     "output_type": "execute_result"
    },
    {
     "data": {
      "image/png": "[encoded data removed]",
      "text/plain": [
       "<Figure size 640x480 with 2 Axes>"
      ]
     },
     "metadata": {},
     "output_type": "display_data"
    }
   ],
   "source": [
    "sns.heatmap(df.isna())"
   ]
  },
  {
   "cell_type": "code",
   "execution_count": 25,
   "id": "525b7bef",
   "metadata": {},
   "outputs": [
    {
     "data": {
      "text/plain": [
       "0"
      ]
     },
     "execution_count": 25,
     "metadata": {},
     "output_type": "execute_result"
    }
   ],
   "source": [
    "df.duplicated().sum()"
   ]
  },
  {
   "cell_type": "code",
   "execution_count": 27,
   "id": "1d139f3c",
   "metadata": {},
   "outputs": [
    {
     "data": {
      "text/plain": [
       "Index(['Title', 'Body', 'Tags', 'Id', 'Score', 'ViewCount', 'FavoriteCount',\n",
       "       'AnswerCount'],\n",
       "      dtype='object')"
      ]
     },
     "execution_count": 27,
     "metadata": {},
     "output_type": "execute_result"
    }
   ],
   "source": [
    "df.columns"
   ]
  },
  {
   "cell_type": "code",
   "execution_count": 28,
   "id": "a3b95932",
   "metadata": {},
   "outputs": [
    {
     "data": {
      "text/plain": [
       "4"
      ]
     },
     "execution_count": 28,
     "metadata": {},
     "output_type": "execute_result"
    }
   ],
   "source": [
    "df.Title.duplicated().sum()"
   ]
  },
  {
   "cell_type": "code",
   "execution_count": 34,
   "id": "ce51a06f",
   "metadata": {},
   "outputs": [
    {
     "data": {
      "text/html": [
       "<div>\n",
       "<style scoped>\n",
       "    .dataframe tbody tr th:only-of-type {\n",
       "        vertical-align: middle;\n",
       "    }\n",
       "\n",
       "    .dataframe tbody tr th {\n",
       "        vertical-align: top;\n",
       "    }\n",
       "\n",
       "    .dataframe thead th {\n",
       "        text-align: right;\n",
       "    }\n",
       "</style>\n",
       "<table border=\"1\" class=\"dataframe\">\n",
       "  <thead>\n",
       "    <tr style=\"text-align: right;\">\n",
       "      <th></th>\n",
       "      <th>Title</th>\n",
       "      <th>Body</th>\n",
       "      <th>Tags</th>\n",
       "      <th>Id</th>\n",
       "      <th>Score</th>\n",
       "      <th>ViewCount</th>\n",
       "      <th>FavoriteCount</th>\n",
       "      <th>AnswerCount</th>\n",
       "    </tr>\n",
       "  </thead>\n",
       "  <tbody>\n",
       "    <tr>\n",
       "      <th>12849</th>\n",
       "      <td>How does a program ask for administrator privi...</td>\n",
       "      <td>&lt;p&gt;I am developing an application using vb.net...</td>\n",
       "      <td>&lt;vb.net&gt;&lt;privileges&gt;</td>\n",
       "      <td>90674</td>\n",
       "      <td>8</td>\n",
       "      <td>23558</td>\n",
       "      <td>0.0</td>\n",
       "      <td>5</td>\n",
       "    </tr>\n",
       "    <tr>\n",
       "      <th>12854</th>\n",
       "      <td>How does a program ask for administrator privi...</td>\n",
       "      <td>&lt;p&gt;I am working on a small application in VB.N...</td>\n",
       "      <td>&lt;windows&gt;&lt;vb.net&gt;&lt;privileges&gt;</td>\n",
       "      <td>90702</td>\n",
       "      <td>3</td>\n",
       "      <td>9409</td>\n",
       "      <td>0.0</td>\n",
       "      <td>4</td>\n",
       "    </tr>\n",
       "    <tr>\n",
       "      <th>8959</th>\n",
       "      <td>Unable To set row visible false of a datagridview</td>\n",
       "      <td>&lt;p&gt;I have a &lt;code&gt;DataGridView&lt;/code&gt; where I ...</td>\n",
       "      <td>&lt;c#&gt;&lt;datagridview&gt;&lt;datasource&gt;</td>\n",
       "      <td>18942017</td>\n",
       "      <td>32</td>\n",
       "      <td>41514</td>\n",
       "      <td>0.0</td>\n",
       "      <td>8</td>\n",
       "    </tr>\n",
       "    <tr>\n",
       "      <th>9974</th>\n",
       "      <td>Unable To set row visible false of a datagridview</td>\n",
       "      <td>&lt;p&gt;I had a DatagridView&lt;br/&gt;\\nI had set its da...</td>\n",
       "      <td>&lt;c#&gt;</td>\n",
       "      <td>18945957</td>\n",
       "      <td>-1</td>\n",
       "      <td>849</td>\n",
       "      <td>NaN</td>\n",
       "      <td>1</td>\n",
       "    </tr>\n",
       "    <tr>\n",
       "      <th>23021</th>\n",
       "      <td>Using Microsoft SMS Sender to send out smses i...</td>\n",
       "      <td>&lt;p&gt;I understand that we can use SMS Sender in ...</td>\n",
       "      <td>&lt;sms&gt;&lt;bulksms&gt;</td>\n",
       "      <td>156543</td>\n",
       "      <td>0</td>\n",
       "      <td>4234</td>\n",
       "      <td>0.0</td>\n",
       "      <td>2</td>\n",
       "    </tr>\n",
       "    <tr>\n",
       "      <th>28072</th>\n",
       "      <td>Using Microsoft SMS Sender to send out smses i...</td>\n",
       "      <td>&lt;p&gt;I understand that we can use SMS Sender in ...</td>\n",
       "      <td>&lt;windows&gt;&lt;sms&gt;</td>\n",
       "      <td>189876</td>\n",
       "      <td>0</td>\n",
       "      <td>2335</td>\n",
       "      <td>NaN</td>\n",
       "      <td>2</td>\n",
       "    </tr>\n",
       "    <tr>\n",
       "      <th>43502</th>\n",
       "      <td>WPF TreeView Binding</td>\n",
       "      <td>&lt;p&gt;I've got a class with Parent and Children p...</td>\n",
       "      <td>&lt;.net&gt;&lt;wpf&gt;&lt;linq&gt;&lt;entity-framework&gt;&lt;data-binding&gt;</td>\n",
       "      <td>272854</td>\n",
       "      <td>8</td>\n",
       "      <td>33482</td>\n",
       "      <td>0.0</td>\n",
       "      <td>1</td>\n",
       "    </tr>\n",
       "    <tr>\n",
       "      <th>43781</th>\n",
       "      <td>WPF TreeView Binding</td>\n",
       "      <td>&lt;p&gt;I've got a class with Parent and Children p...</td>\n",
       "      <td>&lt;.net&gt;&lt;wpf&gt;&lt;linq&gt;&lt;entity-framework&gt;&lt;data-binding&gt;</td>\n",
       "      <td>273200</td>\n",
       "      <td>0</td>\n",
       "      <td>1437</td>\n",
       "      <td>0.0</td>\n",
       "      <td>1</td>\n",
       "    </tr>\n",
       "  </tbody>\n",
       "</table>\n",
       "</div>"
      ],
      "text/plain": [
       "                                                   Title  \\\n",
       "12849  How does a program ask for administrator privi...   \n",
       "12854  How does a program ask for administrator privi...   \n",
       "8959   Unable To set row visible false of a datagridview   \n",
       "9974   Unable To set row visible false of a datagridview   \n",
       "23021  Using Microsoft SMS Sender to send out smses i...   \n",
       "28072  Using Microsoft SMS Sender to send out smses i...   \n",
       "43502                               WPF TreeView Binding   \n",
       "43781                               WPF TreeView Binding   \n",
       "\n",
       "                                                    Body  \\\n",
       "12849  <p>I am developing an application using vb.net...   \n",
       "12854  <p>I am working on a small application in VB.N...   \n",
       "8959   <p>I have a <code>DataGridView</code> where I ...   \n",
       "9974   <p>I had a DatagridView<br/>\\nI had set its da...   \n",
       "23021  <p>I understand that we can use SMS Sender in ...   \n",
       "28072  <p>I understand that we can use SMS Sender in ...   \n",
       "43502  <p>I've got a class with Parent and Children p...   \n",
       "43781  <p>I've got a class with Parent and Children p...   \n",
       "\n",
       "                                                    Tags        Id  Score  \\\n",
       "12849                               <vb.net><privileges>     90674      8   \n",
       "12854                      <windows><vb.net><privileges>     90702      3   \n",
       "8959                      <c#><datagridview><datasource>  18942017     32   \n",
       "9974                                                <c#>  18945957     -1   \n",
       "23021                                     <sms><bulksms>    156543      0   \n",
       "28072                                     <windows><sms>    189876      0   \n",
       "43502  <.net><wpf><linq><entity-framework><data-binding>    272854      8   \n",
       "43781  <.net><wpf><linq><entity-framework><data-binding>    273200      0   \n",
       "\n",
       "       ViewCount  FavoriteCount  AnswerCount  \n",
       "12849      23558            0.0            5  \n",
       "12854       9409            0.0            4  \n",
       "8959       41514            0.0            8  \n",
       "9974         849            NaN            1  \n",
       "23021       4234            0.0            2  \n",
       "28072       2335            NaN            2  \n",
       "43502      33482            0.0            1  \n",
       "43781       1437            0.0            1  "
      ]
     },
     "execution_count": 34,
     "metadata": {},
     "output_type": "execute_result"
    }
   ],
   "source": [
    "idx = df.duplicated(subset='Title',keep=False)\n",
    "df.loc[idx,].sort_values(\"Title\")"
   ]
  },
  {
   "cell_type": "code",
   "execution_count": 32,
   "id": "0474e70a",
   "metadata": {},
   "outputs": [
    {
     "data": {
      "text/plain": [
       "4"
      ]
     },
     "execution_count": 32,
     "metadata": {},
     "output_type": "execute_result"
    }
   ],
   "source": [
    "df.Body.duplicated().sum()"
   ]
  },
  {
   "cell_type": "code",
   "execution_count": 36,
   "id": "923ddb28",
   "metadata": {},
   "outputs": [
    {
     "data": {
      "text/html": [
       "<div>\n",
       "<style scoped>\n",
       "    .dataframe tbody tr th:only-of-type {\n",
       "        vertical-align: middle;\n",
       "    }\n",
       "\n",
       "    .dataframe tbody tr th {\n",
       "        vertical-align: top;\n",
       "    }\n",
       "\n",
       "    .dataframe thead th {\n",
       "        text-align: right;\n",
       "    }\n",
       "</style>\n",
       "<table border=\"1\" class=\"dataframe\">\n",
       "  <thead>\n",
       "    <tr style=\"text-align: right;\">\n",
       "      <th></th>\n",
       "      <th>Title</th>\n",
       "      <th>Body</th>\n",
       "      <th>Tags</th>\n",
       "      <th>Id</th>\n",
       "      <th>Score</th>\n",
       "      <th>ViewCount</th>\n",
       "      <th>FavoriteCount</th>\n",
       "      <th>AnswerCount</th>\n",
       "    </tr>\n",
       "  </thead>\n",
       "  <tbody>\n",
       "    <tr>\n",
       "      <th>13011</th>\n",
       "      <td>Advantages of VS 2008 over VS 2005</td>\n",
       "      <td>&lt;p&gt;Could somebody please name a few.  I could ...</td>\n",
       "      <td>&lt;visual-studio&gt;&lt;ide&gt;</td>\n",
       "      <td>90918</td>\n",
       "      <td>2</td>\n",
       "      <td>609</td>\n",
       "      <td>NaN</td>\n",
       "      <td>7</td>\n",
       "    </tr>\n",
       "    <tr>\n",
       "      <th>13012</th>\n",
       "      <td>Benefits of SQL Server 2005 over 2000</td>\n",
       "      <td>&lt;p&gt;Could somebody please name a few.  I could ...</td>\n",
       "      <td>&lt;sql-server&gt;&lt;sql-server-2005&gt;&lt;sql-server-2000&gt;</td>\n",
       "      <td>90920</td>\n",
       "      <td>3</td>\n",
       "      <td>1629</td>\n",
       "      <td>NaN</td>\n",
       "      <td>12</td>\n",
       "    </tr>\n",
       "    <tr>\n",
       "      <th>36142</th>\n",
       "      <td>Netbeans - Turn off - wavy red underlines - How?</td>\n",
       "      <td>&lt;p&gt;How can I turn off the wavy red underlines ...</td>\n",
       "      <td>&lt;netbeans&gt;&lt;settings&gt;</td>\n",
       "      <td>236733</td>\n",
       "      <td>7</td>\n",
       "      <td>5428</td>\n",
       "      <td>0.0</td>\n",
       "      <td>2</td>\n",
       "    </tr>\n",
       "    <tr>\n",
       "      <th>36661</th>\n",
       "      <td>Netbeans 6.1 (!5.5.1) - Turn off - wavy red un...</td>\n",
       "      <td>&lt;p&gt;How can I turn off the wavy red underlines ...</td>\n",
       "      <td>&lt;netbeans6.1&gt;</td>\n",
       "      <td>237342</td>\n",
       "      <td>1</td>\n",
       "      <td>899</td>\n",
       "      <td>NaN</td>\n",
       "      <td>2</td>\n",
       "    </tr>\n",
       "    <tr>\n",
       "      <th>15007</th>\n",
       "      <td>How to create an automatic form generator base...</td>\n",
       "      <td>&lt;p&gt;I am trying to create a form which will gen...</td>\n",
       "      <td>&lt;javascript&gt;&lt;html&gt;&lt;forms&gt;&lt;input&gt;</td>\n",
       "      <td>57124087</td>\n",
       "      <td>1</td>\n",
       "      <td>651</td>\n",
       "      <td>0.0</td>\n",
       "      <td>1</td>\n",
       "    </tr>\n",
       "    <tr>\n",
       "      <th>17583</th>\n",
       "      <td>Automating Javascript form creation from user ...</td>\n",
       "      <td>&lt;p&gt;I am trying to create a form which will gen...</td>\n",
       "      <td>&lt;javascript&gt;&lt;html&gt;&lt;forms&gt;&lt;user-input&gt;</td>\n",
       "      <td>57132246</td>\n",
       "      <td>0</td>\n",
       "      <td>48</td>\n",
       "      <td>NaN</td>\n",
       "      <td>1</td>\n",
       "    </tr>\n",
       "    <tr>\n",
       "      <th>1259</th>\n",
       "      <td>Looking for sample code to test IoT Hub DM API</td>\n",
       "      <td>&lt;p&gt;Where can I find sample code for implementi...</td>\n",
       "      <td>&lt;azure&gt;&lt;iot&gt;</td>\n",
       "      <td>37945790</td>\n",
       "      <td>-2</td>\n",
       "      <td>63</td>\n",
       "      <td>0.0</td>\n",
       "      <td>1</td>\n",
       "    </tr>\n",
       "    <tr>\n",
       "      <th>15052</th>\n",
       "      <td>Device communication behind gateway</td>\n",
       "      <td>&lt;p&gt;Where can I find sample code for implementi...</td>\n",
       "      <td>&lt;device&gt;&lt;device-management&gt;</td>\n",
       "      <td>37987906</td>\n",
       "      <td>0</td>\n",
       "      <td>44</td>\n",
       "      <td>NaN</td>\n",
       "      <td>1</td>\n",
       "    </tr>\n",
       "  </tbody>\n",
       "</table>\n",
       "</div>"
      ],
      "text/plain": [
       "                                                   Title  \\\n",
       "13011                 Advantages of VS 2008 over VS 2005   \n",
       "13012              Benefits of SQL Server 2005 over 2000   \n",
       "36142   Netbeans - Turn off - wavy red underlines - How?   \n",
       "36661  Netbeans 6.1 (!5.5.1) - Turn off - wavy red un...   \n",
       "15007  How to create an automatic form generator base...   \n",
       "17583  Automating Javascript form creation from user ...   \n",
       "1259      Looking for sample code to test IoT Hub DM API   \n",
       "15052                Device communication behind gateway   \n",
       "\n",
       "                                                    Body  \\\n",
       "13011  <p>Could somebody please name a few.  I could ...   \n",
       "13012  <p>Could somebody please name a few.  I could ...   \n",
       "36142  <p>How can I turn off the wavy red underlines ...   \n",
       "36661  <p>How can I turn off the wavy red underlines ...   \n",
       "15007  <p>I am trying to create a form which will gen...   \n",
       "17583  <p>I am trying to create a form which will gen...   \n",
       "1259   <p>Where can I find sample code for implementi...   \n",
       "15052  <p>Where can I find sample code for implementi...   \n",
       "\n",
       "                                                 Tags        Id  Score  \\\n",
       "13011                            <visual-studio><ide>     90918      2   \n",
       "13012  <sql-server><sql-server-2005><sql-server-2000>     90920      3   \n",
       "36142                            <netbeans><settings>    236733      7   \n",
       "36661                                   <netbeans6.1>    237342      1   \n",
       "15007                <javascript><html><forms><input>  57124087      1   \n",
       "17583           <javascript><html><forms><user-input>  57132246      0   \n",
       "1259                                     <azure><iot>  37945790     -2   \n",
       "15052                     <device><device-management>  37987906      0   \n",
       "\n",
       "       ViewCount  FavoriteCount  AnswerCount  \n",
       "13011        609            NaN            7  \n",
       "13012       1629            NaN           12  \n",
       "36142       5428            0.0            2  \n",
       "36661        899            NaN            2  \n",
       "15007        651            0.0            1  \n",
       "17583         48            NaN            1  \n",
       "1259          63            0.0            1  \n",
       "15052         44            NaN            1  "
      ]
     },
     "execution_count": 36,
     "metadata": {},
     "output_type": "execute_result"
    }
   ],
   "source": [
    "idx = df.duplicated(subset='Body',keep=False)\n",
    "df.loc[idx,].sort_values(\"Body\")"
   ]
  },
  {
   "cell_type": "markdown",
   "id": "b97700bd",
   "metadata": {},
   "source": [
    "## <a name=\"C2.3\">2.3 Inspection de données</a>"
   ]
  },
  {
   "cell_type": "code",
   "execution_count": 37,
   "id": "1c2c5529",
   "metadata": {},
   "outputs": [
    {
     "data": {
      "text/html": [
       "<div>\n",
       "<style scoped>\n",
       "    .dataframe tbody tr th:only-of-type {\n",
       "        vertical-align: middle;\n",
       "    }\n",
       "\n",
       "    .dataframe tbody tr th {\n",
       "        vertical-align: top;\n",
       "    }\n",
       "\n",
       "    .dataframe thead th {\n",
       "        text-align: right;\n",
       "    }\n",
       "</style>\n",
       "<table border=\"1\" class=\"dataframe\">\n",
       "  <thead>\n",
       "    <tr style=\"text-align: right;\">\n",
       "      <th></th>\n",
       "      <th>Id</th>\n",
       "      <th>Score</th>\n",
       "      <th>ViewCount</th>\n",
       "      <th>FavoriteCount</th>\n",
       "      <th>AnswerCount</th>\n",
       "    </tr>\n",
       "  </thead>\n",
       "  <tbody>\n",
       "    <tr>\n",
       "      <th>count</th>\n",
       "      <td>5.000000e+04</td>\n",
       "      <td>50000.000000</td>\n",
       "      <td>5.000000e+04</td>\n",
       "      <td>15969.000000</td>\n",
       "      <td>50000.000000</td>\n",
       "    </tr>\n",
       "    <tr>\n",
       "      <th>mean</th>\n",
       "      <td>2.918343e+07</td>\n",
       "      <td>11.377720</td>\n",
       "      <td>1.114160e+04</td>\n",
       "      <td>0.000063</td>\n",
       "      <td>2.421600</td>\n",
       "    </tr>\n",
       "    <tr>\n",
       "      <th>std</th>\n",
       "      <td>2.084242e+07</td>\n",
       "      <td>113.985529</td>\n",
       "      <td>8.748407e+04</td>\n",
       "      <td>0.007913</td>\n",
       "      <td>3.921714</td>\n",
       "    </tr>\n",
       "    <tr>\n",
       "      <th>min</th>\n",
       "      <td>1.276000e+03</td>\n",
       "      <td>-14.000000</td>\n",
       "      <td>6.000000e+00</td>\n",
       "      <td>0.000000</td>\n",
       "      <td>0.000000</td>\n",
       "    </tr>\n",
       "    <tr>\n",
       "      <th>25%</th>\n",
       "      <td>1.892935e+07</td>\n",
       "      <td>0.000000</td>\n",
       "      <td>1.730000e+02</td>\n",
       "      <td>0.000000</td>\n",
       "      <td>1.000000</td>\n",
       "    </tr>\n",
       "    <tr>\n",
       "      <th>50%</th>\n",
       "      <td>3.794922e+07</td>\n",
       "      <td>1.000000</td>\n",
       "      <td>7.020000e+02</td>\n",
       "      <td>0.000000</td>\n",
       "      <td>1.000000</td>\n",
       "    </tr>\n",
       "    <tr>\n",
       "      <th>75%</th>\n",
       "      <td>4.085676e+07</td>\n",
       "      <td>3.000000</td>\n",
       "      <td>2.705000e+03</td>\n",
       "      <td>0.000000</td>\n",
       "      <td>3.000000</td>\n",
       "    </tr>\n",
       "    <tr>\n",
       "      <th>max</th>\n",
       "      <td>5.975889e+07</td>\n",
       "      <td>7320.000000</td>\n",
       "      <td>4.778477e+06</td>\n",
       "      <td>1.000000</td>\n",
       "      <td>296.000000</td>\n",
       "    </tr>\n",
       "  </tbody>\n",
       "</table>\n",
       "</div>"
      ],
      "text/plain": [
       "                 Id         Score     ViewCount  FavoriteCount   AnswerCount\n",
       "count  5.000000e+04  50000.000000  5.000000e+04   15969.000000  50000.000000\n",
       "mean   2.918343e+07     11.377720  1.114160e+04       0.000063      2.421600\n",
       "std    2.084242e+07    113.985529  8.748407e+04       0.007913      3.921714\n",
       "min    1.276000e+03    -14.000000  6.000000e+00       0.000000      0.000000\n",
       "25%    1.892935e+07      0.000000  1.730000e+02       0.000000      1.000000\n",
       "50%    3.794922e+07      1.000000  7.020000e+02       0.000000      1.000000\n",
       "75%    4.085676e+07      3.000000  2.705000e+03       0.000000      3.000000\n",
       "max    5.975889e+07   7320.000000  4.778477e+06       1.000000    296.000000"
      ]
     },
     "execution_count": 37,
     "metadata": {},
     "output_type": "execute_result"
    }
   ],
   "source": [
    "df.describe(include=np.number)"
   ]
  },
  {
   "cell_type": "code",
   "execution_count": 39,
   "id": "cc430eff",
   "metadata": {},
   "outputs": [
    {
     "data": {
      "text/html": [
       "<div>\n",
       "<style scoped>\n",
       "    .dataframe tbody tr th:only-of-type {\n",
       "        vertical-align: middle;\n",
       "    }\n",
       "\n",
       "    .dataframe tbody tr th {\n",
       "        vertical-align: top;\n",
       "    }\n",
       "\n",
       "    .dataframe thead th {\n",
       "        text-align: right;\n",
       "    }\n",
       "</style>\n",
       "<table border=\"1\" class=\"dataframe\">\n",
       "  <thead>\n",
       "    <tr style=\"text-align: right;\">\n",
       "      <th></th>\n",
       "      <th>Title</th>\n",
       "      <th>Body</th>\n",
       "      <th>Tags</th>\n",
       "    </tr>\n",
       "  </thead>\n",
       "  <tbody>\n",
       "    <tr>\n",
       "      <th>count</th>\n",
       "      <td>50000</td>\n",
       "      <td>50000</td>\n",
       "      <td>50000</td>\n",
       "    </tr>\n",
       "    <tr>\n",
       "      <th>unique</th>\n",
       "      <td>49996</td>\n",
       "      <td>49996</td>\n",
       "      <td>37148</td>\n",
       "    </tr>\n",
       "    <tr>\n",
       "      <th>top</th>\n",
       "      <td>Unable To set row visible false of a datagridview</td>\n",
       "      <td>&lt;p&gt;Where can I find sample code for implementi...</td>\n",
       "      <td>&lt;javascript&gt;</td>\n",
       "    </tr>\n",
       "    <tr>\n",
       "      <th>freq</th>\n",
       "      <td>2</td>\n",
       "      <td>2</td>\n",
       "      <td>281</td>\n",
       "    </tr>\n",
       "  </tbody>\n",
       "</table>\n",
       "</div>"
      ],
      "text/plain": [
       "                                                    Title  \\\n",
       "count                                               50000   \n",
       "unique                                              49996   \n",
       "top     Unable To set row visible false of a datagridview   \n",
       "freq                                                    2   \n",
       "\n",
       "                                                     Body          Tags  \n",
       "count                                               50000         50000  \n",
       "unique                                              49996         37148  \n",
       "top     <p>Where can I find sample code for implementi...  <javascript>  \n",
       "freq                                                    2           281  "
      ]
     },
     "execution_count": 39,
     "metadata": {},
     "output_type": "execute_result"
    }
   ],
   "source": [
    "df.describe(include=object)"
   ]
  },
  {
   "cell_type": "markdown",
   "id": "00c47c1c",
   "metadata": {},
   "source": [
    "## <a name=\"C2.4\">2.4 Nettoyage</a>"
   ]
  },
  {
   "cell_type": "code",
   "execution_count": 42,
   "id": "fc214147",
   "metadata": {},
   "outputs": [],
   "source": [
    "# restriction aux données cibles\n",
    "cols = [\"Title\", 'Tags']\n",
    "df=df[cols]"
   ]
  },
  {
   "cell_type": "code",
   "execution_count": 43,
   "id": "8e6230de",
   "metadata": {},
   "outputs": [
    {
     "data": {
      "text/html": [
       "<div>\n",
       "<style scoped>\n",
       "    .dataframe tbody tr th:only-of-type {\n",
       "        vertical-align: middle;\n",
       "    }\n",
       "\n",
       "    .dataframe tbody tr th {\n",
       "        vertical-align: top;\n",
       "    }\n",
       "\n",
       "    .dataframe thead th {\n",
       "        text-align: right;\n",
       "    }\n",
       "</style>\n",
       "<table border=\"1\" class=\"dataframe\">\n",
       "  <thead>\n",
       "    <tr style=\"text-align: right;\">\n",
       "      <th></th>\n",
       "      <th>Title</th>\n",
       "      <th>Tags</th>\n",
       "    </tr>\n",
       "  </thead>\n",
       "  <tbody>\n",
       "    <tr>\n",
       "      <th>0</th>\n",
       "      <td>Will this type of filtering work in a belongs_...</td>\n",
       "      <td>&lt;ruby-on-rails&gt;</td>\n",
       "    </tr>\n",
       "    <tr>\n",
       "      <th>1</th>\n",
       "      <td>How to remove the \"border-radius\" of the navba...</td>\n",
       "      <td>&lt;twitter-bootstrap&gt;&lt;navbar&gt;&lt;css&gt;</td>\n",
       "    </tr>\n",
       "    <tr>\n",
       "      <th>2</th>\n",
       "      <td>TypeError: unsupported operand type(s) for *: ...</td>\n",
       "      <td>&lt;python&gt;</td>\n",
       "    </tr>\n",
       "    <tr>\n",
       "      <th>3</th>\n",
       "      <td>How to put divider as a image next to button</td>\n",
       "      <td>&lt;android&gt;&lt;layout&gt;</td>\n",
       "    </tr>\n",
       "    <tr>\n",
       "      <th>4</th>\n",
       "      <td>Android ArrayIndexOutOfBoundsException in inse...</td>\n",
       "      <td>&lt;java&gt;&lt;php&gt;&lt;android&gt;&lt;mysql&gt;&lt;sqlite&gt;</td>\n",
       "    </tr>\n",
       "    <tr>\n",
       "      <th>...</th>\n",
       "      <td>...</td>\n",
       "      <td>...</td>\n",
       "    </tr>\n",
       "    <tr>\n",
       "      <th>49995</th>\n",
       "      <td>What is model driven development good for?</td>\n",
       "      <td>&lt;code-generation&gt;&lt;mda&gt;&lt;oslo&gt;&lt;mdd&gt;</td>\n",
       "    </tr>\n",
       "    <tr>\n",
       "      <th>49996</th>\n",
       "      <td>MySQL: how to get the list of tables using ODBC</td>\n",
       "      <td>&lt;mysql&gt;&lt;odbc&gt;</td>\n",
       "    </tr>\n",
       "    <tr>\n",
       "      <th>49997</th>\n",
       "      <td>OSGi/Felix Declarative Services: How to filter...</td>\n",
       "      <td>&lt;dependency-injection&gt;&lt;annotations&gt;&lt;osgi&gt;&lt;apac...</td>\n",
       "    </tr>\n",
       "    <tr>\n",
       "      <th>49998</th>\n",
       "      <td>Rewritepath and IIS Integrated Mode</td>\n",
       "      <td>&lt;asp.net&gt;&lt;iis-7&gt;&lt;url-rewriting&gt;</td>\n",
       "    </tr>\n",
       "    <tr>\n",
       "      <th>49999</th>\n",
       "      <td>How to specify the exact number of occurance o...</td>\n",
       "      <td>&lt;java&gt;&lt;parsing&gt;&lt;antlr&gt;&lt;grammar&gt;&lt;antlrworks&gt;</td>\n",
       "    </tr>\n",
       "  </tbody>\n",
       "</table>\n",
       "<p>50000 rows × 2 columns</p>\n",
       "</div>"
      ],
      "text/plain": [
       "                                                   Title  \\\n",
       "0      Will this type of filtering work in a belongs_...   \n",
       "1      How to remove the \"border-radius\" of the navba...   \n",
       "2      TypeError: unsupported operand type(s) for *: ...   \n",
       "3           How to put divider as a image next to button   \n",
       "4      Android ArrayIndexOutOfBoundsException in inse...   \n",
       "...                                                  ...   \n",
       "49995         What is model driven development good for?   \n",
       "49996    MySQL: how to get the list of tables using ODBC   \n",
       "49997  OSGi/Felix Declarative Services: How to filter...   \n",
       "49998                Rewritepath and IIS Integrated Mode   \n",
       "49999  How to specify the exact number of occurance o...   \n",
       "\n",
       "                                                    Tags  \n",
       "0                                        <ruby-on-rails>  \n",
       "1                       <twitter-bootstrap><navbar><css>  \n",
       "2                                               <python>  \n",
       "3                                      <android><layout>  \n",
       "4                    <java><php><android><mysql><sqlite>  \n",
       "...                                                  ...  \n",
       "49995                  <code-generation><mda><oslo><mdd>  \n",
       "49996                                      <mysql><odbc>  \n",
       "49997  <dependency-injection><annotations><osgi><apac...  \n",
       "49998                    <asp.net><iis-7><url-rewriting>  \n",
       "49999        <java><parsing><antlr><grammar><antlrworks>  \n",
       "\n",
       "[50000 rows x 2 columns]"
      ]
     },
     "execution_count": 43,
     "metadata": {},
     "output_type": "execute_result"
    }
   ],
   "source": [
    "df"
   ]
  },
  {
   "cell_type": "code",
   "execution_count": 44,
   "id": "7b07102e",
   "metadata": {},
   "outputs": [
    {
     "data": {
      "text/plain": [
       "Title    0.0\n",
       "Tags     0.0\n",
       "dtype: float64"
      ]
     },
     "execution_count": 44,
     "metadata": {},
     "output_type": "execute_result"
    }
   ],
   "source": [
    "# Drop NaN\n",
    "df.isna().mean()"
   ]
  },
  {
   "cell_type": "code",
   "execution_count": 45,
   "id": "7574a042",
   "metadata": {},
   "outputs": [
    {
     "data": {
      "text/html": [
       "<div>\n",
       "<style scoped>\n",
       "    .dataframe tbody tr th:only-of-type {\n",
       "        vertical-align: middle;\n",
       "    }\n",
       "\n",
       "    .dataframe tbody tr th {\n",
       "        vertical-align: top;\n",
       "    }\n",
       "\n",
       "    .dataframe thead th {\n",
       "        text-align: right;\n",
       "    }\n",
       "</style>\n",
       "<table border=\"1\" class=\"dataframe\">\n",
       "  <thead>\n",
       "    <tr style=\"text-align: right;\">\n",
       "      <th></th>\n",
       "      <th>Title</th>\n",
       "      <th>Tags</th>\n",
       "    </tr>\n",
       "  </thead>\n",
       "  <tbody>\n",
       "    <tr>\n",
       "      <th>12854</th>\n",
       "      <td>How does a program ask for administrator privi...</td>\n",
       "      <td>&lt;windows&gt;&lt;vb.net&gt;&lt;privileges&gt;</td>\n",
       "    </tr>\n",
       "    <tr>\n",
       "      <th>9974</th>\n",
       "      <td>Unable To set row visible false of a datagridview</td>\n",
       "      <td>&lt;c#&gt;</td>\n",
       "    </tr>\n",
       "    <tr>\n",
       "      <th>28072</th>\n",
       "      <td>Using Microsoft SMS Sender to send out smses i...</td>\n",
       "      <td>&lt;windows&gt;&lt;sms&gt;</td>\n",
       "    </tr>\n",
       "    <tr>\n",
       "      <th>43781</th>\n",
       "      <td>WPF TreeView Binding</td>\n",
       "      <td>&lt;.net&gt;&lt;wpf&gt;&lt;linq&gt;&lt;entity-framework&gt;&lt;data-binding&gt;</td>\n",
       "    </tr>\n",
       "  </tbody>\n",
       "</table>\n",
       "</div>"
      ],
      "text/plain": [
       "                                                   Title  \\\n",
       "12854  How does a program ask for administrator privi...   \n",
       "9974   Unable To set row visible false of a datagridview   \n",
       "28072  Using Microsoft SMS Sender to send out smses i...   \n",
       "43781                               WPF TreeView Binding   \n",
       "\n",
       "                                                    Tags  \n",
       "12854                      <windows><vb.net><privileges>  \n",
       "9974                                                <c#>  \n",
       "28072                                     <windows><sms>  \n",
       "43781  <.net><wpf><linq><entity-framework><data-binding>  "
      ]
     },
     "execution_count": 45,
     "metadata": {},
     "output_type": "execute_result"
    }
   ],
   "source": [
    "# Drop duplicated\n",
    "idx = df.duplicated(subset='Title',keep='first')\n",
    "df.loc[idx,].sort_values(\"Title\")"
   ]
  },
  {
   "cell_type": "code",
   "execution_count": 48,
   "id": "b769d0ae",
   "metadata": {},
   "outputs": [
    {
     "name": "stderr",
     "output_type": "stream",
     "text": [
      "/var/folders/dz/v9mhgdhn03n30_kgvk_0mcfc0000gn/T/ipykernel_2164/1041986592.py:1: SettingWithCopyWarning: \n",
      "A value is trying to be set on a copy of a slice from a DataFrame\n",
      "\n",
      "See the caveats in the documentation: https://pandas.pydata.org/pandas-docs/stable/user_guide/indexing.html#returning-a-view-versus-a-copy\n",
      "  df.drop_duplicates(subset='Title', keep='first', inplace =True)\n"
     ]
    }
   ],
   "source": [
    "df.drop_duplicates(subset='Title', keep='first', inplace =True)"
   ]
  },
  {
   "cell_type": "markdown",
   "id": "dc95703e",
   "metadata": {},
   "source": [
    "# <a name=\"C3\">3. Exploration des données</a>"
   ]
  },
  {
   "cell_type": "markdown",
   "id": "4bb3e6b5",
   "metadata": {},
   "source": [
    "## <a name=\"C3.1\">3.1 Target</a>"
   ]
  },
  {
   "cell_type": "code",
   "execution_count": 49,
   "id": "b74a124b",
   "metadata": {},
   "outputs": [
    {
     "data": {
      "text/html": [
       "<div>\n",
       "<style scoped>\n",
       "    .dataframe tbody tr th:only-of-type {\n",
       "        vertical-align: middle;\n",
       "    }\n",
       "\n",
       "    .dataframe tbody tr th {\n",
       "        vertical-align: top;\n",
       "    }\n",
       "\n",
       "    .dataframe thead th {\n",
       "        text-align: right;\n",
       "    }\n",
       "</style>\n",
       "<table border=\"1\" class=\"dataframe\">\n",
       "  <thead>\n",
       "    <tr style=\"text-align: right;\">\n",
       "      <th></th>\n",
       "      <th>Title</th>\n",
       "      <th>Tags</th>\n",
       "    </tr>\n",
       "  </thead>\n",
       "  <tbody>\n",
       "    <tr>\n",
       "      <th>count</th>\n",
       "      <td>49996</td>\n",
       "      <td>49996</td>\n",
       "    </tr>\n",
       "    <tr>\n",
       "      <th>unique</th>\n",
       "      <td>49996</td>\n",
       "      <td>37146</td>\n",
       "    </tr>\n",
       "    <tr>\n",
       "      <th>top</th>\n",
       "      <td>Will this type of filtering work in a belongs_...</td>\n",
       "      <td>&lt;javascript&gt;</td>\n",
       "    </tr>\n",
       "    <tr>\n",
       "      <th>freq</th>\n",
       "      <td>1</td>\n",
       "      <td>281</td>\n",
       "    </tr>\n",
       "  </tbody>\n",
       "</table>\n",
       "</div>"
      ],
      "text/plain": [
       "                                                    Title          Tags\n",
       "count                                               49996         49996\n",
       "unique                                              49996         37146\n",
       "top     Will this type of filtering work in a belongs_...  <javascript>\n",
       "freq                                                    1           281"
      ]
     },
     "execution_count": 49,
     "metadata": {},
     "output_type": "execute_result"
    }
   ],
   "source": [
    "df.describe()"
   ]
  },
  {
   "cell_type": "code",
   "execution_count": 51,
   "id": "672de122",
   "metadata": {},
   "outputs": [
    {
     "data": {
      "text/plain": [
       "<javascript>                                   281\n",
       "<java>                                         251\n",
       "<python>                                       238\n",
       "<html><css>                                    216\n",
       "<javascript><jquery>                           209\n",
       "                                              ... \n",
       "<wpf><xaml><data-binding><textbox>               1\n",
       "<c#><variables><generics><types><field>          1\n",
       "<iphone><keyboard>                               1\n",
       "<ruby><file><csv><newline><line-endings>         1\n",
       "<java><parsing><antlr><grammar><antlrworks>      1\n",
       "Name: Tags, Length: 37146, dtype: int64"
      ]
     },
     "execution_count": 51,
     "metadata": {},
     "output_type": "execute_result"
    }
   ],
   "source": [
    "df.Tags.value_counts()"
   ]
  },
  {
   "cell_type": "code",
   "execution_count": 52,
   "id": "d60c1e57",
   "metadata": {},
   "outputs": [
    {
     "data": {
      "text/plain": [
       "<javascript>                                   0.00562\n",
       "<java>                                         0.00502\n",
       "<python>                                       0.00476\n",
       "<html><css>                                    0.00432\n",
       "<javascript><jquery>                           0.00418\n",
       "                                                ...   \n",
       "<wpf><xaml><data-binding><textbox>             0.00002\n",
       "<c#><variables><generics><types><field>        0.00002\n",
       "<iphone><keyboard>                             0.00002\n",
       "<ruby><file><csv><newline><line-endings>       0.00002\n",
       "<java><parsing><antlr><grammar><antlrworks>    0.00002\n",
       "Name: Tags, Length: 37146, dtype: float64"
      ]
     },
     "execution_count": 52,
     "metadata": {},
     "output_type": "execute_result"
    }
   ],
   "source": [
    "df.Tags.value_counts(normalize=True)"
   ]
  },
  {
   "cell_type": "markdown",
   "id": "11088077",
   "metadata": {},
   "source": [
    "## <a name=\"C3.2\">3.2 Longueur des titres</a>"
   ]
  },
  {
   "cell_type": "code",
   "execution_count": 54,
   "id": "880decbf",
   "metadata": {},
   "outputs": [
    {
     "data": {
      "text/html": [
       "<div>\n",
       "<style scoped>\n",
       "    .dataframe tbody tr th:only-of-type {\n",
       "        vertical-align: middle;\n",
       "    }\n",
       "\n",
       "    .dataframe tbody tr th {\n",
       "        vertical-align: top;\n",
       "    }\n",
       "\n",
       "    .dataframe thead th {\n",
       "        text-align: right;\n",
       "    }\n",
       "</style>\n",
       "<table border=\"1\" class=\"dataframe\">\n",
       "  <thead>\n",
       "    <tr style=\"text-align: right;\">\n",
       "      <th></th>\n",
       "      <th>Title</th>\n",
       "      <th>Tags</th>\n",
       "    </tr>\n",
       "  </thead>\n",
       "  <tbody>\n",
       "    <tr>\n",
       "      <th>count</th>\n",
       "      <td>49996</td>\n",
       "      <td>49996</td>\n",
       "    </tr>\n",
       "    <tr>\n",
       "      <th>unique</th>\n",
       "      <td>49996</td>\n",
       "      <td>37146</td>\n",
       "    </tr>\n",
       "    <tr>\n",
       "      <th>top</th>\n",
       "      <td>Will this type of filtering work in a belongs_...</td>\n",
       "      <td>&lt;javascript&gt;</td>\n",
       "    </tr>\n",
       "    <tr>\n",
       "      <th>freq</th>\n",
       "      <td>1</td>\n",
       "      <td>281</td>\n",
       "    </tr>\n",
       "  </tbody>\n",
       "</table>\n",
       "</div>"
      ],
      "text/plain": [
       "                                                    Title          Tags\n",
       "count                                               49996         49996\n",
       "unique                                              49996         37146\n",
       "top     Will this type of filtering work in a belongs_...  <javascript>\n",
       "freq                                                    1           281"
      ]
     },
     "execution_count": 54,
     "metadata": {},
     "output_type": "execute_result"
    }
   ],
   "source": [
    "df.describe(include='object')"
   ]
  },
  {
   "cell_type": "code",
   "execution_count": 55,
   "id": "1473bb73",
   "metadata": {},
   "outputs": [
    {
     "data": {
      "text/plain": [
       "0        61\n",
       "1        71\n",
       "2        72\n",
       "3        44\n",
       "4        65\n",
       "         ..\n",
       "49995    42\n",
       "49996    47\n",
       "49997    72\n",
       "49998    35\n",
       "49999    65\n",
       "Name: Title, Length: 49996, dtype: int64"
      ]
     },
     "execution_count": 55,
     "metadata": {},
     "output_type": "execute_result"
    }
   ],
   "source": [
    "df.Title.apply(lambda i : len(i))"
   ]
  },
  {
   "cell_type": "code",
   "execution_count": 56,
   "id": "1b760e53",
   "metadata": {},
   "outputs": [],
   "source": [
    "tmp = df.Title.str.len()"
   ]
  },
  {
   "cell_type": "code",
   "execution_count": 57,
   "id": "567f89b4",
   "metadata": {},
   "outputs": [
    {
     "name": "stderr",
     "output_type": "stream",
     "text": [
      "/Applications/Anaconda/anaconda3/lib/python3.9/site-packages/seaborn/_decorators.py:36: FutureWarning: Pass the following variable as a keyword arg: x. From version 0.12, the only valid positional argument will be `data`, and passing other arguments without an explicit keyword will result in an error or misinterpretation.\n",
      "  warnings.warn(\n"
     ]
    },
    {
     "data": {
      "text/plain": [
       "<AxesSubplot:xlabel='Title'>"
      ]
     },
     "execution_count": 57,
     "metadata": {},
     "output_type": "execute_result"
    },
    {
     "data": {
      "image/png": "[encoded data removed]",
      "text/plain": [
       "<Figure size 640x480 with 1 Axes>"
      ]
     },
     "metadata": {},
     "output_type": "display_data"
    }
   ],
   "source": [
    "sns.boxplot(tmp)"
   ]
  },
  {
   "cell_type": "code",
   "execution_count": 58,
   "id": "2ca96a06",
   "metadata": {},
   "outputs": [
    {
     "data": {
      "text/plain": [
       "<seaborn.axisgrid.FacetGrid at 0x7fd1902ac850>"
      ]
     },
     "execution_count": 58,
     "metadata": {},
     "output_type": "execute_result"
    },
    {
     "data": {
      "image/png": "[encoded data removed]",
      "text/plain": [
       "<Figure size 500x500 with 1 Axes>"
      ]
     },
     "metadata": {},
     "output_type": "display_data"
    }
   ],
   "source": [
    "sns.displot(tmp)"
   ]
  },
  {
   "cell_type": "code",
   "execution_count": 59,
   "id": "39f1dd4f",
   "metadata": {},
   "outputs": [
    {
     "name": "stderr",
     "output_type": "stream",
     "text": [
      "/var/folders/dz/v9mhgdhn03n30_kgvk_0mcfc0000gn/T/ipykernel_2164/3091308944.py:1: SettingWithCopyWarning: \n",
      "A value is trying to be set on a copy of a slice from a DataFrame.\n",
      "Try using .loc[row_indexer,col_indexer] = value instead\n",
      "\n",
      "See the caveats in the documentation: https://pandas.pydata.org/pandas-docs/stable/user_guide/indexing.html#returning-a-view-versus-a-copy\n",
      "  df[\"_len_txt\"] = tmp\n"
     ]
    }
   ],
   "source": [
    "df[\"_len_txt\"] = tmp"
   ]
  },
  {
   "cell_type": "code",
   "execution_count": 60,
   "id": "57165325",
   "metadata": {},
   "outputs": [
    {
     "data": {
      "text/html": [
       "<div>\n",
       "<style scoped>\n",
       "    .dataframe tbody tr th:only-of-type {\n",
       "        vertical-align: middle;\n",
       "    }\n",
       "\n",
       "    .dataframe tbody tr th {\n",
       "        vertical-align: top;\n",
       "    }\n",
       "\n",
       "    .dataframe thead th {\n",
       "        text-align: right;\n",
       "    }\n",
       "</style>\n",
       "<table border=\"1\" class=\"dataframe\">\n",
       "  <thead>\n",
       "    <tr style=\"text-align: right;\">\n",
       "      <th></th>\n",
       "      <th>Title</th>\n",
       "      <th>Tags</th>\n",
       "      <th>_len_txt</th>\n",
       "    </tr>\n",
       "  </thead>\n",
       "  <tbody>\n",
       "    <tr>\n",
       "      <th>0</th>\n",
       "      <td>Will this type of filtering work in a belongs_...</td>\n",
       "      <td>&lt;ruby-on-rails&gt;</td>\n",
       "      <td>61</td>\n",
       "    </tr>\n",
       "    <tr>\n",
       "      <th>1</th>\n",
       "      <td>How to remove the \"border-radius\" of the navba...</td>\n",
       "      <td>&lt;twitter-bootstrap&gt;&lt;navbar&gt;&lt;css&gt;</td>\n",
       "      <td>71</td>\n",
       "    </tr>\n",
       "    <tr>\n",
       "      <th>2</th>\n",
       "      <td>TypeError: unsupported operand type(s) for *: ...</td>\n",
       "      <td>&lt;python&gt;</td>\n",
       "      <td>72</td>\n",
       "    </tr>\n",
       "    <tr>\n",
       "      <th>3</th>\n",
       "      <td>How to put divider as a image next to button</td>\n",
       "      <td>&lt;android&gt;&lt;layout&gt;</td>\n",
       "      <td>44</td>\n",
       "    </tr>\n",
       "    <tr>\n",
       "      <th>4</th>\n",
       "      <td>Android ArrayIndexOutOfBoundsException in inse...</td>\n",
       "      <td>&lt;java&gt;&lt;php&gt;&lt;android&gt;&lt;mysql&gt;&lt;sqlite&gt;</td>\n",
       "      <td>65</td>\n",
       "    </tr>\n",
       "    <tr>\n",
       "      <th>...</th>\n",
       "      <td>...</td>\n",
       "      <td>...</td>\n",
       "      <td>...</td>\n",
       "    </tr>\n",
       "    <tr>\n",
       "      <th>49995</th>\n",
       "      <td>What is model driven development good for?</td>\n",
       "      <td>&lt;code-generation&gt;&lt;mda&gt;&lt;oslo&gt;&lt;mdd&gt;</td>\n",
       "      <td>42</td>\n",
       "    </tr>\n",
       "    <tr>\n",
       "      <th>49996</th>\n",
       "      <td>MySQL: how to get the list of tables using ODBC</td>\n",
       "      <td>&lt;mysql&gt;&lt;odbc&gt;</td>\n",
       "      <td>47</td>\n",
       "    </tr>\n",
       "    <tr>\n",
       "      <th>49997</th>\n",
       "      <td>OSGi/Felix Declarative Services: How to filter...</td>\n",
       "      <td>&lt;dependency-injection&gt;&lt;annotations&gt;&lt;osgi&gt;&lt;apac...</td>\n",
       "      <td>72</td>\n",
       "    </tr>\n",
       "    <tr>\n",
       "      <th>49998</th>\n",
       "      <td>Rewritepath and IIS Integrated Mode</td>\n",
       "      <td>&lt;asp.net&gt;&lt;iis-7&gt;&lt;url-rewriting&gt;</td>\n",
       "      <td>35</td>\n",
       "    </tr>\n",
       "    <tr>\n",
       "      <th>49999</th>\n",
       "      <td>How to specify the exact number of occurance o...</td>\n",
       "      <td>&lt;java&gt;&lt;parsing&gt;&lt;antlr&gt;&lt;grammar&gt;&lt;antlrworks&gt;</td>\n",
       "      <td>65</td>\n",
       "    </tr>\n",
       "  </tbody>\n",
       "</table>\n",
       "<p>49996 rows × 3 columns</p>\n",
       "</div>"
      ],
      "text/plain": [
       "                                                   Title  \\\n",
       "0      Will this type of filtering work in a belongs_...   \n",
       "1      How to remove the \"border-radius\" of the navba...   \n",
       "2      TypeError: unsupported operand type(s) for *: ...   \n",
       "3           How to put divider as a image next to button   \n",
       "4      Android ArrayIndexOutOfBoundsException in inse...   \n",
       "...                                                  ...   \n",
       "49995         What is model driven development good for?   \n",
       "49996    MySQL: how to get the list of tables using ODBC   \n",
       "49997  OSGi/Felix Declarative Services: How to filter...   \n",
       "49998                Rewritepath and IIS Integrated Mode   \n",
       "49999  How to specify the exact number of occurance o...   \n",
       "\n",
       "                                                    Tags  _len_txt  \n",
       "0                                        <ruby-on-rails>        61  \n",
       "1                       <twitter-bootstrap><navbar><css>        71  \n",
       "2                                               <python>        72  \n",
       "3                                      <android><layout>        44  \n",
       "4                    <java><php><android><mysql><sqlite>        65  \n",
       "...                                                  ...       ...  \n",
       "49995                  <code-generation><mda><oslo><mdd>        42  \n",
       "49996                                      <mysql><odbc>        47  \n",
       "49997  <dependency-injection><annotations><osgi><apac...        72  \n",
       "49998                    <asp.net><iis-7><url-rewriting>        35  \n",
       "49999        <java><parsing><antlr><grammar><antlrworks>        65  \n",
       "\n",
       "[49996 rows x 3 columns]"
      ]
     },
     "execution_count": 60,
     "metadata": {},
     "output_type": "execute_result"
    }
   ],
   "source": [
    "df"
   ]
  },
  {
   "cell_type": "markdown",
   "id": "beb4d4a6",
   "metadata": {},
   "source": [
    "## <a name=\"C3.3\">3.3 Nombre de tags</a>"
   ]
  },
  {
   "cell_type": "code",
   "execution_count": 78,
   "id": "53ad05a5",
   "metadata": {},
   "outputs": [
    {
     "data": {
      "text/plain": [
       "'<ruby><regex>'"
      ]
     },
     "execution_count": 78,
     "metadata": {},
     "output_type": "execute_result"
    }
   ],
   "source": [
    "doc = df.Tags.sample(1)\n",
    "doc = doc.values[0]\n",
    "doc"
   ]
  },
  {
   "cell_type": "code",
   "execution_count": 79,
   "id": "5bc2f324",
   "metadata": {},
   "outputs": [
    {
     "data": {
      "text/plain": [
       "['<', 'ruby', '>', '<', 'regex', '>']"
      ]
     },
     "execution_count": 79,
     "metadata": {},
     "output_type": "execute_result"
    }
   ],
   "source": [
    "tokens = word_tokenize(doc)\n",
    "tokens"
   ]
  },
  {
   "cell_type": "code",
   "execution_count": 80,
   "id": "cabfadf7",
   "metadata": {},
   "outputs": [
    {
     "data": {
      "text/plain": [
       "['ruby', 'regex']"
      ]
     },
     "execution_count": 80,
     "metadata": {},
     "output_type": "execute_result"
    }
   ],
   "source": [
    "tokens = [w for w in tokens if w not in [\"<\", \">\"]]\n",
    "tokens"
   ]
  },
  {
   "cell_type": "code",
   "execution_count": 81,
   "id": "a0fc5d42",
   "metadata": {},
   "outputs": [
    {
     "name": "stdout",
     "output_type": "stream",
     "text": [
      "Nb tokens 2, Nb tokens uniques : 2\n"
     ]
    }
   ],
   "source": [
    "print (f\"Nb tokens {len(tokens)}, Nb tokens uniques : {len(set(tokens))}\")"
   ]
  },
  {
   "cell_type": "code",
   "execution_count": 118,
   "id": "fac1c16b",
   "metadata": {},
   "outputs": [],
   "source": [
    "def tokenit(doc):\n",
    "    doc = doc.lower()\n",
    "    tokens = word_tokenize(doc)\n",
    "    tokens = [w for w in tokens if w not in [\"<\", \">\"]]\n",
    "    return len(set(tokens))"
   ]
  },
  {
   "cell_type": "code",
   "execution_count": 120,
   "id": "a7730530",
   "metadata": {},
   "outputs": [
    {
     "name": "stderr",
     "output_type": "stream",
     "text": [
      "/var/folders/dz/v9mhgdhn03n30_kgvk_0mcfc0000gn/T/ipykernel_2164/4258062700.py:1: SettingWithCopyWarning: \n",
      "A value is trying to be set on a copy of a slice from a DataFrame.\n",
      "Try using .loc[row_indexer,col_indexer] = value instead\n",
      "\n",
      "See the caveats in the documentation: https://pandas.pydata.org/pandas-docs/stable/user_guide/indexing.html#returning-a-view-versus-a-copy\n",
      "  df[\"_nb_tags\"] = df.Tags.apply(tokenit)\n"
     ]
    }
   ],
   "source": [
    "df[\"_nb_tags\"] = df.Tags.apply(tokenit)"
   ]
  },
  {
   "cell_type": "code",
   "execution_count": 121,
   "id": "1a3ae4c5",
   "metadata": {},
   "outputs": [
    {
     "data": {
      "text/html": [
       "<div>\n",
       "<style scoped>\n",
       "    .dataframe tbody tr th:only-of-type {\n",
       "        vertical-align: middle;\n",
       "    }\n",
       "\n",
       "    .dataframe tbody tr th {\n",
       "        vertical-align: top;\n",
       "    }\n",
       "\n",
       "    .dataframe thead th {\n",
       "        text-align: right;\n",
       "    }\n",
       "</style>\n",
       "<table border=\"1\" class=\"dataframe\">\n",
       "  <thead>\n",
       "    <tr style=\"text-align: right;\">\n",
       "      <th></th>\n",
       "      <th>Title</th>\n",
       "      <th>Tags</th>\n",
       "      <th>_len_txt</th>\n",
       "      <th>_nb_tags</th>\n",
       "    </tr>\n",
       "  </thead>\n",
       "  <tbody>\n",
       "    <tr>\n",
       "      <th>0</th>\n",
       "      <td>Will this type of filtering work in a belongs_...</td>\n",
       "      <td>&lt;ruby-on-rails&gt;</td>\n",
       "      <td>61</td>\n",
       "      <td>1</td>\n",
       "    </tr>\n",
       "    <tr>\n",
       "      <th>1</th>\n",
       "      <td>How to remove the \"border-radius\" of the navba...</td>\n",
       "      <td>&lt;twitter-bootstrap&gt;&lt;navbar&gt;&lt;css&gt;</td>\n",
       "      <td>71</td>\n",
       "      <td>3</td>\n",
       "    </tr>\n",
       "    <tr>\n",
       "      <th>2</th>\n",
       "      <td>TypeError: unsupported operand type(s) for *: ...</td>\n",
       "      <td>&lt;python&gt;</td>\n",
       "      <td>72</td>\n",
       "      <td>1</td>\n",
       "    </tr>\n",
       "    <tr>\n",
       "      <th>3</th>\n",
       "      <td>How to put divider as a image next to button</td>\n",
       "      <td>&lt;android&gt;&lt;layout&gt;</td>\n",
       "      <td>44</td>\n",
       "      <td>2</td>\n",
       "    </tr>\n",
       "    <tr>\n",
       "      <th>4</th>\n",
       "      <td>Android ArrayIndexOutOfBoundsException in inse...</td>\n",
       "      <td>&lt;java&gt;&lt;php&gt;&lt;android&gt;&lt;mysql&gt;&lt;sqlite&gt;</td>\n",
       "      <td>65</td>\n",
       "      <td>5</td>\n",
       "    </tr>\n",
       "    <tr>\n",
       "      <th>...</th>\n",
       "      <td>...</td>\n",
       "      <td>...</td>\n",
       "      <td>...</td>\n",
       "      <td>...</td>\n",
       "    </tr>\n",
       "    <tr>\n",
       "      <th>49995</th>\n",
       "      <td>What is model driven development good for?</td>\n",
       "      <td>&lt;code-generation&gt;&lt;mda&gt;&lt;oslo&gt;&lt;mdd&gt;</td>\n",
       "      <td>42</td>\n",
       "      <td>4</td>\n",
       "    </tr>\n",
       "    <tr>\n",
       "      <th>49996</th>\n",
       "      <td>MySQL: how to get the list of tables using ODBC</td>\n",
       "      <td>&lt;mysql&gt;&lt;odbc&gt;</td>\n",
       "      <td>47</td>\n",
       "      <td>2</td>\n",
       "    </tr>\n",
       "    <tr>\n",
       "      <th>49997</th>\n",
       "      <td>OSGi/Felix Declarative Services: How to filter...</td>\n",
       "      <td>&lt;dependency-injection&gt;&lt;annotations&gt;&lt;osgi&gt;&lt;apac...</td>\n",
       "      <td>72</td>\n",
       "      <td>4</td>\n",
       "    </tr>\n",
       "    <tr>\n",
       "      <th>49998</th>\n",
       "      <td>Rewritepath and IIS Integrated Mode</td>\n",
       "      <td>&lt;asp.net&gt;&lt;iis-7&gt;&lt;url-rewriting&gt;</td>\n",
       "      <td>35</td>\n",
       "      <td>3</td>\n",
       "    </tr>\n",
       "    <tr>\n",
       "      <th>49999</th>\n",
       "      <td>How to specify the exact number of occurance o...</td>\n",
       "      <td>&lt;java&gt;&lt;parsing&gt;&lt;antlr&gt;&lt;grammar&gt;&lt;antlrworks&gt;</td>\n",
       "      <td>65</td>\n",
       "      <td>5</td>\n",
       "    </tr>\n",
       "  </tbody>\n",
       "</table>\n",
       "<p>49996 rows × 4 columns</p>\n",
       "</div>"
      ],
      "text/plain": [
       "                                                   Title  \\\n",
       "0      Will this type of filtering work in a belongs_...   \n",
       "1      How to remove the \"border-radius\" of the navba...   \n",
       "2      TypeError: unsupported operand type(s) for *: ...   \n",
       "3           How to put divider as a image next to button   \n",
       "4      Android ArrayIndexOutOfBoundsException in inse...   \n",
       "...                                                  ...   \n",
       "49995         What is model driven development good for?   \n",
       "49996    MySQL: how to get the list of tables using ODBC   \n",
       "49997  OSGi/Felix Declarative Services: How to filter...   \n",
       "49998                Rewritepath and IIS Integrated Mode   \n",
       "49999  How to specify the exact number of occurance o...   \n",
       "\n",
       "                                                    Tags  _len_txt  _nb_tags  \n",
       "0                                        <ruby-on-rails>        61         1  \n",
       "1                       <twitter-bootstrap><navbar><css>        71         3  \n",
       "2                                               <python>        72         1  \n",
       "3                                      <android><layout>        44         2  \n",
       "4                    <java><php><android><mysql><sqlite>        65         5  \n",
       "...                                                  ...       ...       ...  \n",
       "49995                  <code-generation><mda><oslo><mdd>        42         4  \n",
       "49996                                      <mysql><odbc>        47         2  \n",
       "49997  <dependency-injection><annotations><osgi><apac...        72         4  \n",
       "49998                    <asp.net><iis-7><url-rewriting>        35         3  \n",
       "49999        <java><parsing><antlr><grammar><antlrworks>        65         5  \n",
       "\n",
       "[49996 rows x 4 columns]"
      ]
     },
     "execution_count": 121,
     "metadata": {},
     "output_type": "execute_result"
    }
   ],
   "source": [
    "df"
   ]
  },
  {
   "cell_type": "code",
   "execution_count": 125,
   "id": "a1cd2d7e",
   "metadata": {},
   "outputs": [
    {
     "data": {
      "text/plain": [
       "<AxesSubplot:xlabel='_nb_tags'>"
      ]
     },
     "execution_count": 125,
     "metadata": {},
     "output_type": "execute_result"
    },
    {
     "data": {
      "image/png": "[encoded data removed]",
      "text/plain": [
       "<Figure size 640x480 with 1 Axes>"
      ]
     },
     "metadata": {},
     "output_type": "display_data"
    }
   ],
   "source": [
    "sns.boxplot(data=df, x=\"_nb_tags\")"
   ]
  },
  {
   "cell_type": "code",
   "execution_count": 126,
   "id": "6f4dd1eb",
   "metadata": {},
   "outputs": [
    {
     "data": {
      "text/plain": [
       "<seaborn.axisgrid.FacetGrid at 0x7fd161ed3e50>"
      ]
     },
     "execution_count": 126,
     "metadata": {},
     "output_type": "execute_result"
    },
    {
     "data": {
      "image/png": "[encoded data removed]",
      "text/plain": [
       "<Figure size 500x500 with 1 Axes>"
      ]
     },
     "metadata": {},
     "output_type": "display_data"
    }
   ],
   "source": [
    "sns.displot(data=df, x=\"_nb_tags\")"
   ]
  },
  {
   "cell_type": "markdown",
   "id": "6ba9328a",
   "metadata": {},
   "source": [
    "## <a name=\"C3.4\">3.4 Analyse multivariée</a>"
   ]
  },
  {
   "cell_type": "code",
   "execution_count": 127,
   "id": "808a03cb",
   "metadata": {},
   "outputs": [],
   "source": [
    "corr = df.corr()"
   ]
  },
  {
   "cell_type": "code",
   "execution_count": 128,
   "id": "8da9530f",
   "metadata": {},
   "outputs": [
    {
     "data": {
      "text/plain": [
       "<AxesSubplot:>"
      ]
     },
     "execution_count": 128,
     "metadata": {},
     "output_type": "execute_result"
    },
    {
     "data": {
      "image/png": "[encoded data removed]",
      "text/plain": [
       "<Figure size 640x480 with 2 Axes>"
      ]
     },
     "metadata": {},
     "output_type": "display_data"
    }
   ],
   "source": [
    "sns.heatmap(corr)"
   ]
  },
  {
   "cell_type": "code",
   "execution_count": 129,
   "id": "a476cb70",
   "metadata": {},
   "outputs": [
    {
     "data": {
      "image/png": "[encoded data removed]",
      "text/plain": [
       "<Figure size 700x500 with 2 Axes>"
      ]
     },
     "metadata": {},
     "output_type": "display_data"
    }
   ],
   "source": [
    "mask = np.zeros_like(corr)\n",
    "mask[np.triu_indices_from(mask)] = True\n",
    "fig, ax = plt.subplots(1,1, figsize=(7,5))\n",
    "ax = sns.heatmap(corr,mask=mask, vmin=1, vmax=1, cmap='coolwarm', annot=True, fmt=('.2f'), square=True)"
   ]
  },
  {
   "cell_type": "code",
   "execution_count": 130,
   "id": "71d6cb9a",
   "metadata": {},
   "outputs": [
    {
     "data": {
      "text/plain": [
       "<seaborn.axisgrid.PairGrid at 0x7fd15f00fbe0>"
      ]
     },
     "execution_count": 130,
     "metadata": {},
     "output_type": "execute_result"
    },
    {
     "data": {
      "image/png": "[encoded data removed]",
      "text/plain": [
       "<Figure size 500x500 with 6 Axes>"
      ]
     },
     "metadata": {},
     "output_type": "display_data"
    }
   ],
   "source": [
    "sns.pairplot(df)"
   ]
  },
  {
   "cell_type": "code",
   "execution_count": 82,
   "id": "94a14582",
   "metadata": {},
   "outputs": [
    {
     "data": {
      "text/html": [
       "<div>\n",
       "<style scoped>\n",
       "    .dataframe tbody tr th:only-of-type {\n",
       "        vertical-align: middle;\n",
       "    }\n",
       "\n",
       "    .dataframe tbody tr th {\n",
       "        vertical-align: top;\n",
       "    }\n",
       "\n",
       "    .dataframe thead th {\n",
       "        text-align: right;\n",
       "    }\n",
       "</style>\n",
       "<table border=\"1\" class=\"dataframe\">\n",
       "  <thead>\n",
       "    <tr style=\"text-align: right;\">\n",
       "      <th></th>\n",
       "      <th>text</th>\n",
       "      <th>target</th>\n",
       "      <th>_len_txt</th>\n",
       "    </tr>\n",
       "  </thead>\n",
       "  <tbody>\n",
       "    <tr>\n",
       "      <th>4890</th>\n",
       "      <td>Bad day</td>\n",
       "      <td>0</td>\n",
       "      <td>7</td>\n",
       "    </tr>\n",
       "    <tr>\n",
       "      <th>5115</th>\n",
       "      <td>Err:509</td>\n",
       "      <td>0</td>\n",
       "      <td>7</td>\n",
       "    </tr>\n",
       "    <tr>\n",
       "      <th>1882</th>\n",
       "      <td>Crushed</td>\n",
       "      <td>0</td>\n",
       "      <td>7</td>\n",
       "    </tr>\n",
       "    <tr>\n",
       "      <th>4971</th>\n",
       "      <td>Meltdown</td>\n",
       "      <td>0</td>\n",
       "      <td>8</td>\n",
       "    </tr>\n",
       "    <tr>\n",
       "      <th>24</th>\n",
       "      <td>LOOOOOOL</td>\n",
       "      <td>0</td>\n",
       "      <td>8</td>\n",
       "    </tr>\n",
       "    <tr>\n",
       "      <th>3670</th>\n",
       "      <td>fatality</td>\n",
       "      <td>0</td>\n",
       "      <td>8</td>\n",
       "    </tr>\n",
       "    <tr>\n",
       "      <th>30</th>\n",
       "      <td>The end!</td>\n",
       "      <td>0</td>\n",
       "      <td>8</td>\n",
       "    </tr>\n",
       "    <tr>\n",
       "      <th>28</th>\n",
       "      <td>Cooool :)</td>\n",
       "      <td>0</td>\n",
       "      <td>9</td>\n",
       "    </tr>\n",
       "    <tr>\n",
       "      <th>3667</th>\n",
       "      <td>Fatality!</td>\n",
       "      <td>0</td>\n",
       "      <td>9</td>\n",
       "    </tr>\n",
       "    <tr>\n",
       "      <th>6705</th>\n",
       "      <td>Thunder???</td>\n",
       "      <td>0</td>\n",
       "      <td>10</td>\n",
       "    </tr>\n",
       "  </tbody>\n",
       "</table>\n",
       "</div>"
      ],
      "text/plain": [
       "            text  target  _len_txt\n",
       "4890     Bad day       0         7\n",
       "5115     Err:509       0         7\n",
       "1882     Crushed       0         7\n",
       "4971    Meltdown       0         8\n",
       "24      LOOOOOOL       0         8\n",
       "3670    fatality       0         8\n",
       "30      The end!       0         8\n",
       "28     Cooool :)       0         9\n",
       "3667   Fatality!       0         9\n",
       "6705  Thunder???       0        10"
      ]
     },
     "execution_count": 82,
     "metadata": {},
     "output_type": "execute_result"
    }
   ],
   "source": [
    "df.sort_values(\"_len_txt\").head(10)"
   ]
  },
  {
   "cell_type": "code",
   "execution_count": 137,
   "id": "8c4914ec",
   "metadata": {},
   "outputs": [
    {
     "data": {
      "text/html": [
       "<div>\n",
       "<style scoped>\n",
       "    .dataframe tbody tr th:only-of-type {\n",
       "        vertical-align: middle;\n",
       "    }\n",
       "\n",
       "    .dataframe tbody tr th {\n",
       "        vertical-align: top;\n",
       "    }\n",
       "\n",
       "    .dataframe thead th {\n",
       "        text-align: right;\n",
       "    }\n",
       "</style>\n",
       "<table border=\"1\" class=\"dataframe\">\n",
       "  <thead>\n",
       "    <tr style=\"text-align: right;\">\n",
       "      <th></th>\n",
       "      <th>Title</th>\n",
       "      <th>Tags</th>\n",
       "      <th>_len_txt</th>\n",
       "      <th>_nb_tags</th>\n",
       "    </tr>\n",
       "  </thead>\n",
       "  <tbody>\n",
       "    <tr>\n",
       "      <th>49871</th>\n",
       "      <td>Facebook API - getting friend list with detail...</td>\n",
       "      <td>&lt;c#&gt;&lt;facebook&gt;&lt;facebook-graph-api&gt;&lt;facebook-c#...</td>\n",
       "      <td>57</td>\n",
       "      <td>7</td>\n",
       "    </tr>\n",
       "    <tr>\n",
       "      <th>24047</th>\n",
       "      <td>How do I group together radio buttons that are...</td>\n",
       "      <td>&lt;winforms&gt;&lt;c#-4.0&gt;&lt;radio-button&gt;&lt;custom-contro...</td>\n",
       "      <td>67</td>\n",
       "      <td>7</td>\n",
       "    </tr>\n",
       "    <tr>\n",
       "      <th>43117</th>\n",
       "      <td>Linq Many to Many query</td>\n",
       "      <td>&lt;linq&gt;&lt;entity-framework&gt;&lt;c#-4.0&gt;&lt;ef-code-first...</td>\n",
       "      <td>23</td>\n",
       "      <td>7</td>\n",
       "    </tr>\n",
       "    <tr>\n",
       "      <th>22035</th>\n",
       "      <td>Any Risk in Using Static Method in IDisposable?</td>\n",
       "      <td>&lt;.net&gt;&lt;c#-4.0&gt;&lt;memory-management&gt;&lt;static-metho...</td>\n",
       "      <td>47</td>\n",
       "      <td>7</td>\n",
       "    </tr>\n",
       "    <tr>\n",
       "      <th>15614</th>\n",
       "      <td>Transaction count after EXECUTE a mismatching ...</td>\n",
       "      <td>&lt;asp.net&gt;&lt;sql-server&gt;&lt;c#-4.0&gt;&lt;transactions&gt;&lt;sq...</td>\n",
       "      <td>122</td>\n",
       "      <td>7</td>\n",
       "    </tr>\n",
       "    <tr>\n",
       "      <th>36596</th>\n",
       "      <td>using paypal DoDirectPayment method via HttpWe...</td>\n",
       "      <td>&lt;wcf&gt;&lt;c#-4.0&gt;&lt;paypal&gt;&lt;paypal-ipn&gt;&lt;paypal-sandbox&gt;</td>\n",
       "      <td>102</td>\n",
       "      <td>7</td>\n",
       "    </tr>\n",
       "    <tr>\n",
       "      <th>4235</th>\n",
       "      <td>Accessing static fields in XAML</td>\n",
       "      <td>&lt;c#&gt;&lt;.net&gt;&lt;wpf&gt;&lt;silverlight&gt;&lt;xaml&gt;</td>\n",
       "      <td>31</td>\n",
       "      <td>6</td>\n",
       "    </tr>\n",
       "    <tr>\n",
       "      <th>33621</th>\n",
       "      <td>Loading the TypeScript compiler into ClearScri...</td>\n",
       "      <td>&lt;c#&gt;&lt;.net&gt;&lt;typescript&gt;&lt;windows-scripting&gt;&lt;clea...</td>\n",
       "      <td>90</td>\n",
       "      <td>6</td>\n",
       "    </tr>\n",
       "    <tr>\n",
       "      <th>13277</th>\n",
       "      <td>What's the best way to send a file over a netw...</td>\n",
       "      <td>&lt;c#&gt;&lt;.net&gt;&lt;ftp&gt;&lt;tcp&gt;&lt;data-transfer&gt;</td>\n",
       "      <td>59</td>\n",
       "      <td>6</td>\n",
       "    </tr>\n",
       "    <tr>\n",
       "      <th>34349</th>\n",
       "      <td>Validating and Extracting XML record by record...</td>\n",
       "      <td>&lt;c#&gt;&lt;.net&gt;&lt;xml&gt;&lt;linq&gt;&lt;linq-to-xml&gt;</td>\n",
       "      <td>60</td>\n",
       "      <td>6</td>\n",
       "    </tr>\n",
       "  </tbody>\n",
       "</table>\n",
       "</div>"
      ],
      "text/plain": [
       "                                                   Title  \\\n",
       "49871  Facebook API - getting friend list with detail...   \n",
       "24047  How do I group together radio buttons that are...   \n",
       "43117                            Linq Many to Many query   \n",
       "22035    Any Risk in Using Static Method in IDisposable?   \n",
       "15614  Transaction count after EXECUTE a mismatching ...   \n",
       "36596  using paypal DoDirectPayment method via HttpWe...   \n",
       "4235                     Accessing static fields in XAML   \n",
       "33621  Loading the TypeScript compiler into ClearScri...   \n",
       "13277  What's the best way to send a file over a netw...   \n",
       "34349  Validating and Extracting XML record by record...   \n",
       "\n",
       "                                                    Tags  _len_txt  _nb_tags  \n",
       "49871  <c#><facebook><facebook-graph-api><facebook-c#...        57         7  \n",
       "24047  <winforms><c#-4.0><radio-button><custom-contro...        67         7  \n",
       "43117  <linq><entity-framework><c#-4.0><ef-code-first...        23         7  \n",
       "22035  <.net><c#-4.0><memory-management><static-metho...        47         7  \n",
       "15614  <asp.net><sql-server><c#-4.0><transactions><sq...       122         7  \n",
       "36596  <wcf><c#-4.0><paypal><paypal-ipn><paypal-sandbox>       102         7  \n",
       "4235                  <c#><.net><wpf><silverlight><xaml>        31         6  \n",
       "33621  <c#><.net><typescript><windows-scripting><clea...        90         6  \n",
       "13277                <c#><.net><ftp><tcp><data-transfer>        59         6  \n",
       "34349                 <c#><.net><xml><linq><linq-to-xml>        60         6  "
      ]
     },
     "execution_count": 137,
     "metadata": {},
     "output_type": "execute_result"
    }
   ],
   "source": [
    "df.sort_values(\"_nb_tags\", ascending=False).head(10)"
   ]
  },
  {
   "cell_type": "code",
   "execution_count": 138,
   "id": "880e2f3b",
   "metadata": {},
   "outputs": [
    {
     "name": "stderr",
     "output_type": "stream",
     "text": [
      "/var/folders/dz/v9mhgdhn03n30_kgvk_0mcfc0000gn/T/ipykernel_2164/2748062120.py:1: SettingWithCopyWarning: \n",
      "A value is trying to be set on a copy of a slice from a DataFrame\n",
      "\n",
      "See the caveats in the documentation: https://pandas.pydata.org/pandas-docs/stable/user_guide/indexing.html#returning-a-view-versus-a-copy\n",
      "  df.drop(columns=[\"_len_txt\", \"_nb_tags\"], inplace=True)\n"
     ]
    }
   ],
   "source": [
    "df.drop(columns=[\"_len_txt\", \"_nb_tags\"], inplace=True)"
   ]
  },
  {
   "cell_type": "code",
   "execution_count": 139,
   "id": "293dcea2",
   "metadata": {},
   "outputs": [
    {
     "data": {
      "text/html": [
       "<div>\n",
       "<style scoped>\n",
       "    .dataframe tbody tr th:only-of-type {\n",
       "        vertical-align: middle;\n",
       "    }\n",
       "\n",
       "    .dataframe tbody tr th {\n",
       "        vertical-align: top;\n",
       "    }\n",
       "\n",
       "    .dataframe thead th {\n",
       "        text-align: right;\n",
       "    }\n",
       "</style>\n",
       "<table border=\"1\" class=\"dataframe\">\n",
       "  <thead>\n",
       "    <tr style=\"text-align: right;\">\n",
       "      <th></th>\n",
       "      <th>Title</th>\n",
       "      <th>Tags</th>\n",
       "    </tr>\n",
       "  </thead>\n",
       "  <tbody>\n",
       "    <tr>\n",
       "      <th>0</th>\n",
       "      <td>Will this type of filtering work in a belongs_...</td>\n",
       "      <td>&lt;ruby-on-rails&gt;</td>\n",
       "    </tr>\n",
       "    <tr>\n",
       "      <th>1</th>\n",
       "      <td>How to remove the \"border-radius\" of the navba...</td>\n",
       "      <td>&lt;twitter-bootstrap&gt;&lt;navbar&gt;&lt;css&gt;</td>\n",
       "    </tr>\n",
       "    <tr>\n",
       "      <th>2</th>\n",
       "      <td>TypeError: unsupported operand type(s) for *: ...</td>\n",
       "      <td>&lt;python&gt;</td>\n",
       "    </tr>\n",
       "    <tr>\n",
       "      <th>3</th>\n",
       "      <td>How to put divider as a image next to button</td>\n",
       "      <td>&lt;android&gt;&lt;layout&gt;</td>\n",
       "    </tr>\n",
       "    <tr>\n",
       "      <th>4</th>\n",
       "      <td>Android ArrayIndexOutOfBoundsException in inse...</td>\n",
       "      <td>&lt;java&gt;&lt;php&gt;&lt;android&gt;&lt;mysql&gt;&lt;sqlite&gt;</td>\n",
       "    </tr>\n",
       "    <tr>\n",
       "      <th>...</th>\n",
       "      <td>...</td>\n",
       "      <td>...</td>\n",
       "    </tr>\n",
       "    <tr>\n",
       "      <th>49995</th>\n",
       "      <td>What is model driven development good for?</td>\n",
       "      <td>&lt;code-generation&gt;&lt;mda&gt;&lt;oslo&gt;&lt;mdd&gt;</td>\n",
       "    </tr>\n",
       "    <tr>\n",
       "      <th>49996</th>\n",
       "      <td>MySQL: how to get the list of tables using ODBC</td>\n",
       "      <td>&lt;mysql&gt;&lt;odbc&gt;</td>\n",
       "    </tr>\n",
       "    <tr>\n",
       "      <th>49997</th>\n",
       "      <td>OSGi/Felix Declarative Services: How to filter...</td>\n",
       "      <td>&lt;dependency-injection&gt;&lt;annotations&gt;&lt;osgi&gt;&lt;apac...</td>\n",
       "    </tr>\n",
       "    <tr>\n",
       "      <th>49998</th>\n",
       "      <td>Rewritepath and IIS Integrated Mode</td>\n",
       "      <td>&lt;asp.net&gt;&lt;iis-7&gt;&lt;url-rewriting&gt;</td>\n",
       "    </tr>\n",
       "    <tr>\n",
       "      <th>49999</th>\n",
       "      <td>How to specify the exact number of occurance o...</td>\n",
       "      <td>&lt;java&gt;&lt;parsing&gt;&lt;antlr&gt;&lt;grammar&gt;&lt;antlrworks&gt;</td>\n",
       "    </tr>\n",
       "  </tbody>\n",
       "</table>\n",
       "<p>49996 rows × 2 columns</p>\n",
       "</div>"
      ],
      "text/plain": [
       "                                                   Title  \\\n",
       "0      Will this type of filtering work in a belongs_...   \n",
       "1      How to remove the \"border-radius\" of the navba...   \n",
       "2      TypeError: unsupported operand type(s) for *: ...   \n",
       "3           How to put divider as a image next to button   \n",
       "4      Android ArrayIndexOutOfBoundsException in inse...   \n",
       "...                                                  ...   \n",
       "49995         What is model driven development good for?   \n",
       "49996    MySQL: how to get the list of tables using ODBC   \n",
       "49997  OSGi/Felix Declarative Services: How to filter...   \n",
       "49998                Rewritepath and IIS Integrated Mode   \n",
       "49999  How to specify the exact number of occurance o...   \n",
       "\n",
       "                                                    Tags  \n",
       "0                                        <ruby-on-rails>  \n",
       "1                       <twitter-bootstrap><navbar><css>  \n",
       "2                                               <python>  \n",
       "3                                      <android><layout>  \n",
       "4                    <java><php><android><mysql><sqlite>  \n",
       "...                                                  ...  \n",
       "49995                  <code-generation><mda><oslo><mdd>  \n",
       "49996                                      <mysql><odbc>  \n",
       "49997  <dependency-injection><annotations><osgi><apac...  \n",
       "49998                    <asp.net><iis-7><url-rewriting>  \n",
       "49999        <java><parsing><antlr><grammar><antlrworks>  \n",
       "\n",
       "[49996 rows x 2 columns]"
      ]
     },
     "execution_count": 139,
     "metadata": {},
     "output_type": "execute_result"
    }
   ],
   "source": [
    "df"
   ]
  },
  {
   "cell_type": "code",
   "execution_count": 140,
   "id": "a2342b62",
   "metadata": {},
   "outputs": [],
   "source": [
    "df.to_csv(\"data/cleaned/df_cleaned.csv\", index=False)"
   ]
  },
  {
   "cell_type": "markdown",
   "id": "6cfe140e",
   "metadata": {},
   "source": [
    "## <a name=\"C3.5\">3.5 Exploration du corpus</a>"
   ]
  },
  {
   "cell_type": "code",
   "execution_count": 141,
   "id": "1dd89ceb",
   "metadata": {},
   "outputs": [
    {
     "data": {
      "text/html": [
       "<div>\n",
       "<style scoped>\n",
       "    .dataframe tbody tr th:only-of-type {\n",
       "        vertical-align: middle;\n",
       "    }\n",
       "\n",
       "    .dataframe tbody tr th {\n",
       "        vertical-align: top;\n",
       "    }\n",
       "\n",
       "    .dataframe thead th {\n",
       "        text-align: right;\n",
       "    }\n",
       "</style>\n",
       "<table border=\"1\" class=\"dataframe\">\n",
       "  <thead>\n",
       "    <tr style=\"text-align: right;\">\n",
       "      <th></th>\n",
       "      <th>Title</th>\n",
       "      <th>Tags</th>\n",
       "    </tr>\n",
       "  </thead>\n",
       "  <tbody>\n",
       "    <tr>\n",
       "      <th>1125</th>\n",
       "      <td>Where can I find some good WS-Security introdu...</td>\n",
       "      <td>&lt;web-services&gt;&lt;ws-security&gt;</td>\n",
       "    </tr>\n",
       "    <tr>\n",
       "      <th>10515</th>\n",
       "      <td>The same process in the process pool will be e...</td>\n",
       "      <td>&lt;python&gt;</td>\n",
       "    </tr>\n",
       "    <tr>\n",
       "      <th>40246</th>\n",
       "      <td>Apache modrewrite .htaccess</td>\n",
       "      <td>&lt;apache&gt;&lt;.htaccess&gt;&lt;mod-rewrite&gt;&lt;url-rewriting&gt;</td>\n",
       "    </tr>\n",
       "    <tr>\n",
       "      <th>33929</th>\n",
       "      <td>HTTP session tracking through base URL \"resour...</td>\n",
       "      <td>&lt;http&gt;&lt;https&gt;&lt;session-state&gt;&lt;sessiontracking&gt;</td>\n",
       "    </tr>\n",
       "    <tr>\n",
       "      <th>46518</th>\n",
       "      <td>non-uniform behavior of flexbox in firefox and...</td>\n",
       "      <td>&lt;html&gt;&lt;css&gt;&lt;google-chrome&gt;&lt;firefox&gt;&lt;flexbox&gt;</td>\n",
       "    </tr>\n",
       "    <tr>\n",
       "      <th>27764</th>\n",
       "      <td>Inline Styles not rendering in IE7,8,9</td>\n",
       "      <td>&lt;html&gt;&lt;css&gt;&lt;internet-explorer&gt;&lt;background&gt;&lt;inl...</td>\n",
       "    </tr>\n",
       "    <tr>\n",
       "      <th>23293</th>\n",
       "      <td>Facebook realtime updates certificate verify f...</td>\n",
       "      <td>&lt;facebook&gt;&lt;ssl&gt;&lt;updates&gt;</td>\n",
       "    </tr>\n",
       "    <tr>\n",
       "      <th>46657</th>\n",
       "      <td>Can't proceed to next routes because my ajax k...</td>\n",
       "      <td>&lt;php&gt;&lt;jquery&gt;&lt;ajax&gt;&lt;laravel&gt;&lt;twitter-bootstrap&gt;</td>\n",
       "    </tr>\n",
       "    <tr>\n",
       "      <th>40783</th>\n",
       "      <td>How to skip specific line from csv file using ...</td>\n",
       "      <td>&lt;php&gt;&lt;csv&gt;&lt;fgetcsv&gt;</td>\n",
       "    </tr>\n",
       "    <tr>\n",
       "      <th>49069</th>\n",
       "      <td>How can I use Digest Authorisation with my ASP...</td>\n",
       "      <td>&lt;asp.net&gt;&lt;digest-authorisation&gt;</td>\n",
       "    </tr>\n",
       "    <tr>\n",
       "      <th>38653</th>\n",
       "      <td>LINQ2SQL Database providers</td>\n",
       "      <td>&lt;linq-to-sql&gt;</td>\n",
       "    </tr>\n",
       "    <tr>\n",
       "      <th>29056</th>\n",
       "      <td>Get GeoFire to return null if there is no inde...</td>\n",
       "      <td>&lt;javascript&gt;&lt;firebase&gt;&lt;firebase-realtime-datab...</td>\n",
       "    </tr>\n",
       "    <tr>\n",
       "      <th>44752</th>\n",
       "      <td>Class instantiated multiple times; how to tell...</td>\n",
       "      <td>&lt;java&gt;</td>\n",
       "    </tr>\n",
       "    <tr>\n",
       "      <th>8042</th>\n",
       "      <td>Can't instantiate instances of a class/model -...</td>\n",
       "      <td>&lt;ruby-on-rails-3&gt;&lt;activerecord&gt;&lt;ruby-on-rails-4&gt;</td>\n",
       "    </tr>\n",
       "    <tr>\n",
       "      <th>28186</th>\n",
       "      <td>Events in the class hierarchy</td>\n",
       "      <td>&lt;c#&gt;&lt;events&gt;</td>\n",
       "    </tr>\n",
       "    <tr>\n",
       "      <th>21378</th>\n",
       "      <td>User Control Public Shared Variables in ASP.NE...</td>\n",
       "      <td>&lt;asp.net&gt;&lt;controls&gt;</td>\n",
       "    </tr>\n",
       "    <tr>\n",
       "      <th>40183</th>\n",
       "      <td>Security Exception While Running TestNG test i...</td>\n",
       "      <td>&lt;eclipse&gt;&lt;testng&gt;&lt;testng-eclipse&gt;</td>\n",
       "    </tr>\n",
       "    <tr>\n",
       "      <th>12379</th>\n",
       "      <td>Setting up Feign in Jhipster behind a SSL socket</td>\n",
       "      <td>&lt;java&gt;&lt;ssl&gt;&lt;jhipster&gt;&lt;spring-cloud-feign&gt;</td>\n",
       "    </tr>\n",
       "    <tr>\n",
       "      <th>42542</th>\n",
       "      <td>Multiple Java versions running concurrently un...</td>\n",
       "      <td>&lt;java&gt;</td>\n",
       "    </tr>\n",
       "    <tr>\n",
       "      <th>33309</th>\n",
       "      <td>openCV's namedWindow embed in Qt's QGraphicsSc...</td>\n",
       "      <td>&lt;c++&gt;&lt;qt&gt;&lt;opencv&gt;</td>\n",
       "    </tr>\n",
       "  </tbody>\n",
       "</table>\n",
       "</div>"
      ],
      "text/plain": [
       "                                                   Title  \\\n",
       "1125   Where can I find some good WS-Security introdu...   \n",
       "10515  The same process in the process pool will be e...   \n",
       "40246                        Apache modrewrite .htaccess   \n",
       "33929  HTTP session tracking through base URL \"resour...   \n",
       "46518  non-uniform behavior of flexbox in firefox and...   \n",
       "27764             Inline Styles not rendering in IE7,8,9   \n",
       "23293  Facebook realtime updates certificate verify f...   \n",
       "46657  Can't proceed to next routes because my ajax k...   \n",
       "40783  How to skip specific line from csv file using ...   \n",
       "49069  How can I use Digest Authorisation with my ASP...   \n",
       "38653                        LINQ2SQL Database providers   \n",
       "29056  Get GeoFire to return null if there is no inde...   \n",
       "44752  Class instantiated multiple times; how to tell...   \n",
       "8042   Can't instantiate instances of a class/model -...   \n",
       "28186                      Events in the class hierarchy   \n",
       "21378  User Control Public Shared Variables in ASP.NE...   \n",
       "40183  Security Exception While Running TestNG test i...   \n",
       "12379   Setting up Feign in Jhipster behind a SSL socket   \n",
       "42542  Multiple Java versions running concurrently un...   \n",
       "33309  openCV's namedWindow embed in Qt's QGraphicsSc...   \n",
       "\n",
       "                                                    Tags  \n",
       "1125                         <web-services><ws-security>  \n",
       "10515                                           <python>  \n",
       "40246    <apache><.htaccess><mod-rewrite><url-rewriting>  \n",
       "33929      <http><https><session-state><sessiontracking>  \n",
       "46518       <html><css><google-chrome><firefox><flexbox>  \n",
       "27764  <html><css><internet-explorer><background><inl...  \n",
       "23293                           <facebook><ssl><updates>  \n",
       "46657    <php><jquery><ajax><laravel><twitter-bootstrap>  \n",
       "40783                                <php><csv><fgetcsv>  \n",
       "49069                    <asp.net><digest-authorisation>  \n",
       "38653                                      <linq-to-sql>  \n",
       "29056  <javascript><firebase><firebase-realtime-datab...  \n",
       "44752                                             <java>  \n",
       "8042    <ruby-on-rails-3><activerecord><ruby-on-rails-4>  \n",
       "28186                                       <c#><events>  \n",
       "21378                                <asp.net><controls>  \n",
       "40183                  <eclipse><testng><testng-eclipse>  \n",
       "12379          <java><ssl><jhipster><spring-cloud-feign>  \n",
       "42542                                             <java>  \n",
       "33309                                  <c++><qt><opencv>  "
      ]
     },
     "execution_count": 141,
     "metadata": {},
     "output_type": "execute_result"
    }
   ],
   "source": [
    "# print n random documents\n",
    "df_samp = df.sample(20)\n",
    "df_samp"
   ]
  },
  {
   "cell_type": "code",
   "execution_count": 143,
   "id": "d68e4af8",
   "metadata": {},
   "outputs": [
    {
     "name": "stdout",
     "output_type": "stream",
     "text": [
      "tags : <web-services><ws-security>\n",
      "Where can I find some good WS-Security introductions and tutorials?...\n",
      "\n",
      "\n",
      "tags : <python>\n",
      "The same process in the process pool will be executed multiple times...\n",
      "\n",
      "\n",
      "tags : <apache><.htaccess><mod-rewrite><url-rewriting>\n",
      "Apache modrewrite .htaccess...\n",
      "\n",
      "\n",
      "tags : <http><https><session-state><sessiontracking>\n",
      "HTTP session tracking through base URL \"resource\"?...\n",
      "\n",
      "\n",
      "tags : <html><css><google-chrome><firefox><flexbox>\n",
      "non-uniform behavior of flexbox in firefox and chrome?...\n",
      "\n",
      "\n",
      "tags : <html><css><internet-explorer><background><inline-styles>\n",
      "Inline Styles not rendering in IE7,8,9...\n",
      "\n",
      "\n",
      "tags : <facebook><ssl><updates>\n",
      "Facebook realtime updates certificate verify failed...\n",
      "\n",
      "\n",
      "tags : <php><jquery><ajax><laravel><twitter-bootstrap>\n",
      "Can't proceed to next routes because my ajax keep return 422 status...\n",
      "\n",
      "\n",
      "tags : <php><csv><fgetcsv>\n",
      "How to skip specific line from csv file using fgetcsv function...\n",
      "\n",
      "\n",
      "tags : <asp.net><digest-authorisation>\n",
      "How can I use Digest Authorisation with my ASP.NET site?...\n",
      "\n",
      "\n",
      "tags : <linq-to-sql>\n",
      "LINQ2SQL Database providers...\n",
      "\n",
      "\n",
      "tags : <javascript><firebase><firebase-realtime-database><geofire>\n",
      "Get GeoFire to return null if there is no index within radius zone...\n",
      "\n",
      "\n",
      "tags : <java>\n",
      "Class instantiated multiple times; how to tell which one is being called?...\n",
      "\n",
      "\n",
      "tags : <ruby-on-rails-3><activerecord><ruby-on-rails-4>\n",
      "Can't instantiate instances of a class/model - Uninitialized Constant?...\n",
      "\n",
      "\n",
      "tags : <c#><events>\n",
      "Events in the class hierarchy...\n",
      "\n",
      "\n",
      "tags : <asp.net><controls>\n",
      "User Control Public Shared Variables in ASP.NET 1.1 Not Working As Expected...\n",
      "\n",
      "\n",
      "tags : <eclipse><testng><testng-eclipse>\n",
      "Security Exception While Running TestNG test in Eclipse...\n",
      "\n",
      "\n",
      "tags : <java><ssl><jhipster><spring-cloud-feign>\n",
      "Setting up Feign in Jhipster behind a SSL socket...\n",
      "\n",
      "\n",
      "tags : <java>\n",
      "Multiple Java versions running concurrently under Windows...\n",
      "\n",
      "\n",
      "tags : <c++><qt><opencv>\n",
      "openCV's namedWindow embed in Qt's QGraphicsScene? program openCV with Qt...\n",
      "\n",
      "\n"
     ]
    }
   ],
   "source": [
    "for idx, ser in df_samp.iterrows():\n",
    "    txt_1 = f\"tags : {ser['Tags']}\\n\" \n",
    "    print (txt_1 + ser['Title']+'...'+\"\\n\\n\")"
   ]
  },
  {
   "cell_type": "code",
   "execution_count": 147,
   "id": "a0b80fae",
   "metadata": {},
   "outputs": [
    {
     "data": {
      "text/html": [
       "<div>\n",
       "<style scoped>\n",
       "    .dataframe tbody tr th:only-of-type {\n",
       "        vertical-align: middle;\n",
       "    }\n",
       "\n",
       "    .dataframe tbody tr th {\n",
       "        vertical-align: top;\n",
       "    }\n",
       "\n",
       "    .dataframe thead th {\n",
       "        text-align: right;\n",
       "    }\n",
       "</style>\n",
       "<table border=\"1\" class=\"dataframe\">\n",
       "  <thead>\n",
       "    <tr style=\"text-align: right;\">\n",
       "      <th></th>\n",
       "      <th>Title</th>\n",
       "      <th>Tags</th>\n",
       "    </tr>\n",
       "  </thead>\n",
       "  <tbody>\n",
       "    <tr>\n",
       "      <th>119</th>\n",
       "      <td>Why does this simple code throw ArrayIndexOutO...</td>\n",
       "      <td>&lt;java&gt;</td>\n",
       "    </tr>\n",
       "    <tr>\n",
       "      <th>351</th>\n",
       "      <td>How to write 1 to 1000 numbers into text file ...</td>\n",
       "      <td>&lt;java&gt;</td>\n",
       "    </tr>\n",
       "    <tr>\n",
       "      <th>475</th>\n",
       "      <td>Error: Incompatible types when attempting to r...</td>\n",
       "      <td>&lt;java&gt;</td>\n",
       "    </tr>\n",
       "    <tr>\n",
       "      <th>567</th>\n",
       "      <td>JApplet menus are not visible</td>\n",
       "      <td>&lt;java&gt;</td>\n",
       "    </tr>\n",
       "    <tr>\n",
       "      <th>819</th>\n",
       "      <td>Ensuring that every class that implements an i...</td>\n",
       "      <td>&lt;java&gt;</td>\n",
       "    </tr>\n",
       "    <tr>\n",
       "      <th>...</th>\n",
       "      <td>...</td>\n",
       "      <td>...</td>\n",
       "    </tr>\n",
       "    <tr>\n",
       "      <th>49590</th>\n",
       "      <td>Java and switch case</td>\n",
       "      <td>&lt;java&gt;</td>\n",
       "    </tr>\n",
       "    <tr>\n",
       "      <th>49633</th>\n",
       "      <td>Not able to give inputs to a function java.</td>\n",
       "      <td>&lt;java&gt;</td>\n",
       "    </tr>\n",
       "    <tr>\n",
       "      <th>49688</th>\n",
       "      <td>How I can implements method from one class in ...</td>\n",
       "      <td>&lt;java&gt;</td>\n",
       "    </tr>\n",
       "    <tr>\n",
       "      <th>49704</th>\n",
       "      <td>Java: cannot find symbol \"file.asm\".split(\".\")</td>\n",
       "      <td>&lt;java&gt;</td>\n",
       "    </tr>\n",
       "    <tr>\n",
       "      <th>49743</th>\n",
       "      <td>How to install Java SE Express version on Mac?</td>\n",
       "      <td>&lt;java&gt;</td>\n",
       "    </tr>\n",
       "  </tbody>\n",
       "</table>\n",
       "<p>251 rows × 2 columns</p>\n",
       "</div>"
      ],
      "text/plain": [
       "                                                   Title    Tags\n",
       "119    Why does this simple code throw ArrayIndexOutO...  <java>\n",
       "351    How to write 1 to 1000 numbers into text file ...  <java>\n",
       "475    Error: Incompatible types when attempting to r...  <java>\n",
       "567                        JApplet menus are not visible  <java>\n",
       "819    Ensuring that every class that implements an i...  <java>\n",
       "...                                                  ...     ...\n",
       "49590                               Java and switch case  <java>\n",
       "49633        Not able to give inputs to a function java.  <java>\n",
       "49688  How I can implements method from one class in ...  <java>\n",
       "49704     Java: cannot find symbol \"file.asm\".split(\".\")  <java>\n",
       "49743     How to install Java SE Express version on Mac?  <java>\n",
       "\n",
       "[251 rows x 2 columns]"
      ]
     },
     "execution_count": 147,
     "metadata": {},
     "output_type": "execute_result"
    }
   ],
   "source": [
    "df_1 = df[df.Tags == \"<java>\"]\n",
    "df_1"
   ]
  },
  {
   "cell_type": "code",
   "execution_count": null,
   "id": "1c1a4775",
   "metadata": {},
   "outputs": [],
   "source": []
  }
 ],
 "metadata": {
  "kernelspec": {
   "display_name": "Python 3 (ipykernel)",
   "language": "python",
   "name": "python3"
  },
  "language_info": {
   "codemirror_mode": {
    "name": "ipython",
    "version": 3
   },
   "file_extension": ".py",
   "mimetype": "text/x-python",
   "name": "python",
   "nbconvert_exporter": "python",
   "pygments_lexer": "ipython3",
   "version": "3.9.13"
  }
 },
 "nbformat": 4,
 "nbformat_minor": 5
}
